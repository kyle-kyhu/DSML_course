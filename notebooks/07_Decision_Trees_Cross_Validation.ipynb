{
 "cells": [
  {
   "cell_type": "code",
   "execution_count": 68,
   "metadata": {},
   "outputs": [],
   "source": [
    "import numpy as np\n",
    "import pandas as pd\n",
    "import matplotlib.pyplot as plt\n",
    "import seaborn as sns\n",
    "sns.set()\n",
    "\n",
    "\n",
    "# classifier we will use\n",
    "from sklearn.tree import DecisionTreeClassifier\n",
    "\n",
    "# model selection bits\n",
    "from sklearn.model_selection import GridSearchCV, RandomizedSearchCV, train_test_split\n",
    "from sklearn.model_selection import cross_val_score\n",
    "from sklearn.model_selection import StratifiedShuffleSplit, StratifiedKFold\n",
    "from sklearn.model_selection import learning_curve, validation_curve\n",
    "\n",
    "# evaluation\n",
    "from sklearn.metrics import f1_score\n",
    "\n",
    "# plotting\n",
    "from plotting import plot_learning_curve, plot_validation_curve\n",
    "\n"
   ]
  },
  {
   "cell_type": "markdown",
   "metadata": {},
   "source": [
    "# Detecting Spam with Decision Trees\n",
    "\n",
    "In the last assignment we worked with the spam database. We are going to do the same thing in this assignment and we will practice with the correct tools this time around. "
   ]
  },
  {
   "cell_type": "code",
   "execution_count": 69,
   "metadata": {},
   "outputs": [],
   "source": [
    "## we are going to hardcode the column names, because this just makes it a little easier to use pandas.\n",
    "\n",
    "names = ['word_freq_make:        ',\n",
    "'word_freq_address:     ',\n",
    "'word_freq_all:         ',\n",
    "'word_freq_3d:          ',\n",
    "'word_freq_our:         ',\n",
    "'word_freq_over:        ',\n",
    "'word_freq_remove:      ',\n",
    "'word_freq_internet:    ',\n",
    "'word_freq_order:       ',\n",
    "'word_freq_mail:        ',\n",
    "'word_freq_receive:     ',\n",
    "'word_freq_will:        ',\n",
    "'word_freq_people:      ',\n",
    "'word_freq_report:      ',\n",
    "'word_freq_addresses:   ',\n",
    "'word_freq_free:        ',\n",
    "'word_freq_business:    ',\n",
    "'word_freq_email:       ',\n",
    "'word_freq_you:         ',\n",
    "'word_freq_credit:      ',\n",
    "'word_freq_your:        ',\n",
    "'word_freq_font:        ',\n",
    "'word_freq_000:         ',\n",
    "'word_freq_money:       ',\n",
    "'word_freq_hp:          ',\n",
    "'word_freq_hpl:         ',\n",
    "'word_freq_george:      ',\n",
    "'word_freq_650:         ',\n",
    "'word_freq_lab:         ',\n",
    "'word_freq_labs:        ',\n",
    "'word_freq_telnet:      ',\n",
    "'word_freq_857:         ',\n",
    "'word_freq_data:        ',\n",
    "'word_freq_415:         ',\n",
    "'word_freq_85:          ',\n",
    "'word_freq_technology:  ',\n",
    "'word_freq_1999:        ',\n",
    "'word_freq_parts:       ',\n",
    "'word_freq_pm:          ',\n",
    "'word_freq_direct:      ',\n",
    "'word_freq_cs:          ',\n",
    "'word_freq_meeting:     ',\n",
    "'word_freq_original:    ',\n",
    "'word_freq_project:     ',\n",
    "'word_freq_re:          ',\n",
    "'word_freq_edu:         ',\n",
    "'word_freq_table:       ',\n",
    "'word_freq_conference:  ',\n",
    "'char_freq_;:           ',\n",
    "'char_freq_(:           ',\n",
    "'char_freq_[:           ',\n",
    "'char_freq_!:           ',\n",
    "'char_freq_$:           ',\n",
    "'char_freq_#:           ',\n",
    "'capital_run_length_average',\n",
    "'capital_run_length_longest',\n",
    "'capital_run_length_total: ',\n",
    "'label']\n",
    "          "
   ]
  },
  {
   "cell_type": "code",
   "execution_count": 70,
   "metadata": {},
   "outputs": [],
   "source": [
    "## Load in the dataset here \n",
    "\n",
    "data = pd.read_csv('spambase/spambase.csv', names = names)\n",
    "X = data.drop('label', axis = 1)\n",
    "y = data.label"
   ]
  },
  {
   "cell_type": "code",
   "execution_count": 71,
   "metadata": {},
   "outputs": [],
   "source": [
    "# this time we will keep a bit more data for training and validation.\n",
    "X_train, X_test, y_train, y_test = train_test_split(X, y, train_size=.8, stratify = y)"
   ]
  },
  {
   "cell_type": "markdown",
   "metadata": {},
   "source": [
    "## 1. Evaluate your classifier using 5 fold cross validation.\n",
    "\n",
    "Do you see any variance in different runs?\n",
    "Why do you think this is happening?\n"
   ]
  },
  {
   "cell_type": "code",
   "execution_count": 72,
   "metadata": {},
   "outputs": [],
   "source": [
    "# create a default decision tree model\n",
    "clf = DecisionTreeClassifier()\n",
    "\n",
    "# create a stratifiedKfold cv object -- we want stratified to keep the class balance across folds\n",
    "cv = StratifiedKFold(n_splits = 5)  # set it for 5 folds\n",
    "\n",
    "# get the scores back using the helper function, make sure to pass a scoring function string - otherwise you default to accuracy\n",
    "scores = cross_val_score(clf, X_train, y_train, cv = cv, scoring = 'f1')"
   ]
  },
  {
   "cell_type": "code",
   "execution_count": 73,
   "metadata": {},
   "outputs": [
    {
     "name": "stdout",
     "output_type": "stream",
     "text": [
      "[0.88927336 0.88054608 0.86767169 0.89761092 0.87863248]\n"
     ]
    }
   ],
   "source": [
    "print(scores)"
   ]
  },
  {
   "cell_type": "code",
   "execution_count": 74,
   "metadata": {},
   "outputs": [
    {
     "data": {
      "text/plain": [
       "numpy.ndarray"
      ]
     },
     "execution_count": 74,
     "metadata": {},
     "output_type": "execute_result"
    }
   ],
   "source": [
    "type(scores)"
   ]
  },
  {
   "cell_type": "code",
   "execution_count": 75,
   "metadata": {},
   "outputs": [
    {
     "name": "stdout",
     "output_type": "stream",
     "text": [
      "0.8827469046826376\n"
     ]
    }
   ],
   "source": [
    "print(scores.mean())"
   ]
  },
  {
   "cell_type": "markdown",
   "metadata": {},
   "source": [
    "### Looking for variance in the runs\n",
    "\n",
    "How much do the runs change over time? Let's run a for-loop and check.  In fact, that's exactly what shuffle split will do for us, so we can just run 100 iterations with 25% held out as validations - this will mimick 5-fold CV in the long run. "
   ]
  },
  {
   "cell_type": "code",
   "execution_count": 76,
   "metadata": {},
   "outputs": [],
   "source": [
    "sss_split = StratifiedShuffleSplit(n_splits = 100, test_size=.25) # fill in the params\n",
    "scores_sss = cross_val_score(clf, X_train, y_train, cv = sss_split, scoring = 'f1')"
   ]
  },
  {
   "cell_type": "code",
   "execution_count": 77,
   "metadata": {},
   "outputs": [
    {
     "name": "stdout",
     "output_type": "stream",
     "text": [
      "[0.89222374 0.85752688 0.87719298 0.90809328 0.89466484 0.86931818\n",
      " 0.90710383 0.89367429 0.88251366 0.89285714 0.8696845  0.8952381\n",
      " 0.87804878 0.90250696 0.89589041 0.86295794 0.88920455 0.88033012\n",
      " 0.90529248 0.88251366 0.88488211 0.88260255 0.88227334 0.86464088\n",
      " 0.88493151 0.87824897 0.85675307 0.87619048 0.88098495 0.88674033\n",
      " 0.88227334 0.87791495 0.8847185  0.89903181 0.87763713 0.89495225\n",
      " 0.90437158 0.87534626 0.87719298 0.89459459 0.86178862 0.88642659\n",
      " 0.88       0.87933426 0.91351351 0.87228261 0.8849797  0.89042996\n",
      " 0.90152566 0.87039563 0.8951049  0.8787062  0.86823856 0.88203753\n",
      " 0.8769018  0.88476821 0.9027027  0.88918919 0.90179806 0.89280868\n",
      " 0.869326   0.88010899 0.87431694 0.88308116 0.87671233 0.86501377\n",
      " 0.88111888 0.90121786 0.88919668 0.89251701 0.86823856 0.90040928\n",
      " 0.85869565 0.89315068 0.87878788 0.88888889 0.87378641 0.888\n",
      " 0.88707483 0.90710383 0.88203753 0.8840382  0.90040928 0.87327824\n",
      " 0.88359046 0.8972973  0.89945652 0.8662069  0.88764045 0.90984743\n",
      " 0.89395973 0.89779006 0.89415042 0.87207703 0.87431694 0.89608637\n",
      " 0.89159892 0.88520055 0.88948787 0.87743733]\n"
     ]
    }
   ],
   "source": [
    "# print at your own risk!\n",
    "print (scores_sss)"
   ]
  },
  {
   "cell_type": "code",
   "execution_count": 78,
   "metadata": {},
   "outputs": [
    {
     "data": {
      "text/plain": [
       "0.8850870343670699"
      ]
     },
     "execution_count": 78,
     "metadata": {},
     "output_type": "execute_result"
    }
   ],
   "source": [
    "scores_sss.mean()"
   ]
  },
  {
   "cell_type": "code",
   "execution_count": null,
   "metadata": {},
   "outputs": [],
   "source": []
  },
  {
   "cell_type": "markdown",
   "metadata": {},
   "source": [
    "### Plotting a histogram of the runs\n",
    "\n",
    "So we want to look for variance or variation in the runs. It's not easy to just look at a large list of scores and get any idea, so I will plot a histogram which should show us the distribution of results."
   ]
  },
  {
   "cell_type": "code",
   "execution_count": 79,
   "metadata": {},
   "outputs": [
    {
     "data": {
      "image/png": "[encoded data removed]",
      "text/plain": [
       "<Figure size 1000x600 with 1 Axes>"
      ]
     },
     "metadata": {},
     "output_type": "display_data"
    }
   ],
   "source": [
    "plt.figure(figsize=(10,6))\n",
    "sns.histplot(scores_sss, kde=True, bins=15);  # go ahead and try different bins"
   ]
  },
  {
   "cell_type": "markdown",
   "metadata": {},
   "source": [
    "### What does the histogram tell you?\n",
    "\n",
    "What is the mean of the our model? What kind of variation can we expect?\n",
    "\n",
    "#### Your answer below : "
   ]
  },
  {
   "cell_type": "markdown",
   "metadata": {},
   "source": []
  },
  {
   "cell_type": "markdown",
   "metadata": {},
   "source": [
    "## 2. Tune your models hyper-parameters with Gridsearch\n",
    "\n",
    "Choose at least **3** parameters with **3** values each (total **9**) to search over\n",
    "When you create your GridSearchCV object make sure to set the following\n",
    "\n",
    "1. cv object - which CV do you want to use? This will be run for every experiment, so if you do 100 sss, then you get 100 experiments for every parameter setting! This will add up fast. So make sure to choose something reasonable.\n",
    "2. scoring parameter - never forget this!\n",
    "\n",
    "If you don't set the above, GridSearchCV will default to kfold=5 for the CV and accuracy for the scoring parameter.  kfold=5 isn't the worst (stratifiedkfold is better for us), but accuracy is really wrong for this dataset since it's unbalanced and a spam dataset.\n",
    "\n",
    "Quiz Question: How many different trees will get made during your grid-search? You need to do the math on the number of splits per CV * number of combination from your grid-search.\n",
    "\n"
   ]
  },
  {
   "cell_type": "code",
   "execution_count": 80,
   "metadata": {},
   "outputs": [],
   "source": [
    "# you need to setup a paramgrid.  I will give you one example\n",
    "\n",
    "param_grid = {'max_depth':[2,10,20,30],\n",
    "              'min_samples_leaf':[2,20,50],\n",
    "              'min_samples_split':[2,20,50] } # will check max depth for those four parameters."
   ]
  },
  {
   "cell_type": "code",
   "execution_count": 81,
   "metadata": {},
   "outputs": [],
   "source": [
    "## make a gridsearch object and pass all the needed parameters.\n",
    "grid = GridSearchCV(DecisionTreeClassifier(), param_grid=param_grid, scoring= 'f1',\n",
    "                    cv = StratifiedKFold(n_splits = 5), n_jobs = -1)"
   ]
  },
  {
   "cell_type": "code",
   "execution_count": 82,
   "metadata": {},
   "outputs": [
    {
     "data": {
      "text/html": [
       "<style>#sk-container-id-4 {color: black;}#sk-container-id-4 pre{padding: 0;}#sk-container-id-4 div.sk-toggleable {background-color: white;}#sk-container-id-4 label.sk-toggleable__label {cursor: pointer;display: block;width: 100%;margin-bottom: 0;padding: 0.3em;box-sizing: border-box;text-align: center;}#sk-container-id-4 label.sk-toggleable__label-arrow:before {content: \"▸\";float: left;margin-right: 0.25em;color: #696969;}#sk-container-id-4 label.sk-toggleable__label-arrow:hover:before {color: black;}#sk-container-id-4 div.sk-estimator:hover label.sk-toggleable__label-arrow:before {color: black;}#sk-container-id-4 div.sk-toggleable__content {max-height: 0;max-width: 0;overflow: hidden;text-align: left;background-color: #f0f8ff;}#sk-container-id-4 div.sk-toggleable__content pre {margin: 0.2em;color: black;border-radius: 0.25em;background-color: #f0f8ff;}#sk-container-id-4 input.sk-toggleable__control:checked~div.sk-toggleable__content {max-height: 200px;max-width: 100%;overflow: auto;}#sk-container-id-4 input.sk-toggleable__control:checked~label.sk-toggleable__label-arrow:before {content: \"▾\";}#sk-container-id-4 div.sk-estimator input.sk-toggleable__control:checked~label.sk-toggleable__label {background-color: #d4ebff;}#sk-container-id-4 div.sk-label input.sk-toggleable__control:checked~label.sk-toggleable__label {background-color: #d4ebff;}#sk-container-id-4 input.sk-hidden--visually {border: 0;clip: rect(1px 1px 1px 1px);clip: rect(1px, 1px, 1px, 1px);height: 1px;margin: -1px;overflow: hidden;padding: 0;position: absolute;width: 1px;}#sk-container-id-4 div.sk-estimator {font-family: monospace;background-color: #f0f8ff;border: 1px dotted black;border-radius: 0.25em;box-sizing: border-box;margin-bottom: 0.5em;}#sk-container-id-4 div.sk-estimator:hover {background-color: #d4ebff;}#sk-container-id-4 div.sk-parallel-item::after {content: \"\";width: 100%;border-bottom: 1px solid gray;flex-grow: 1;}#sk-container-id-4 div.sk-label:hover label.sk-toggleable__label {background-color: #d4ebff;}#sk-container-id-4 div.sk-serial::before {content: \"\";position: absolute;border-left: 1px solid gray;box-sizing: border-box;top: 0;bottom: 0;left: 50%;z-index: 0;}#sk-container-id-4 div.sk-serial {display: flex;flex-direction: column;align-items: center;background-color: white;padding-right: 0.2em;padding-left: 0.2em;position: relative;}#sk-container-id-4 div.sk-item {position: relative;z-index: 1;}#sk-container-id-4 div.sk-parallel {display: flex;align-items: stretch;justify-content: center;background-color: white;position: relative;}#sk-container-id-4 div.sk-item::before, #sk-container-id-4 div.sk-parallel-item::before {content: \"\";position: absolute;border-left: 1px solid gray;box-sizing: border-box;top: 0;bottom: 0;left: 50%;z-index: -1;}#sk-container-id-4 div.sk-parallel-item {display: flex;flex-direction: column;z-index: 1;position: relative;background-color: white;}#sk-container-id-4 div.sk-parallel-item:first-child::after {align-self: flex-end;width: 50%;}#sk-container-id-4 div.sk-parallel-item:last-child::after {align-self: flex-start;width: 50%;}#sk-container-id-4 div.sk-parallel-item:only-child::after {width: 0;}#sk-container-id-4 div.sk-dashed-wrapped {border: 1px dashed gray;margin: 0 0.4em 0.5em 0.4em;box-sizing: border-box;padding-bottom: 0.4em;background-color: white;}#sk-container-id-4 div.sk-label label {font-family: monospace;font-weight: bold;display: inline-block;line-height: 1.2em;}#sk-container-id-4 div.sk-label-container {text-align: center;}#sk-container-id-4 div.sk-container {/* jupyter's `normalize.less` sets `[hidden] { display: none; }` but bootstrap.min.css set `[hidden] { display: none !important; }` so we also need the `!important` here to be able to override the default hidden behavior on the sphinx rendered scikit-learn.org. See: https://github.com/scikit-learn/scikit-learn/issues/21755 */display: inline-block !important;position: relative;}#sk-container-id-4 div.sk-text-repr-fallback {display: none;}</style><div id=\"sk-container-id-4\" class=\"sk-top-container\"><div class=\"sk-text-repr-fallback\"><pre>GridSearchCV(cv=StratifiedKFold(n_splits=5, random_state=None, shuffle=False),\n",
       "             estimator=DecisionTreeClassifier(), n_jobs=-1,\n",
       "             param_grid={&#x27;max_depth&#x27;: [2, 10, 20, 30],\n",
       "                         &#x27;min_samples_leaf&#x27;: [2, 20, 50],\n",
       "                         &#x27;min_samples_split&#x27;: [2, 20, 50]},\n",
       "             scoring=&#x27;f1&#x27;)</pre><b>In a Jupyter environment, please rerun this cell to show the HTML representation or trust the notebook. <br />On GitHub, the HTML representation is unable to render, please try loading this page with nbviewer.org.</b></div><div class=\"sk-container\" hidden><div class=\"sk-item sk-dashed-wrapped\"><div class=\"sk-label-container\"><div class=\"sk-label sk-toggleable\"><input class=\"sk-toggleable__control sk-hidden--visually\" id=\"sk-estimator-id-10\" type=\"checkbox\" ><label for=\"sk-estimator-id-10\" class=\"sk-toggleable__label sk-toggleable__label-arrow\">GridSearchCV</label><div class=\"sk-toggleable__content\"><pre>GridSearchCV(cv=StratifiedKFold(n_splits=5, random_state=None, shuffle=False),\n",
       "             estimator=DecisionTreeClassifier(), n_jobs=-1,\n",
       "             param_grid={&#x27;max_depth&#x27;: [2, 10, 20, 30],\n",
       "                         &#x27;min_samples_leaf&#x27;: [2, 20, 50],\n",
       "                         &#x27;min_samples_split&#x27;: [2, 20, 50]},\n",
       "             scoring=&#x27;f1&#x27;)</pre></div></div></div><div class=\"sk-parallel\"><div class=\"sk-parallel-item\"><div class=\"sk-item\"><div class=\"sk-label-container\"><div class=\"sk-label sk-toggleable\"><input class=\"sk-toggleable__control sk-hidden--visually\" id=\"sk-estimator-id-11\" type=\"checkbox\" ><label for=\"sk-estimator-id-11\" class=\"sk-toggleable__label sk-toggleable__label-arrow\">estimator: DecisionTreeClassifier</label><div class=\"sk-toggleable__content\"><pre>DecisionTreeClassifier()</pre></div></div></div><div class=\"sk-serial\"><div class=\"sk-item\"><div class=\"sk-estimator sk-toggleable\"><input class=\"sk-toggleable__control sk-hidden--visually\" id=\"sk-estimator-id-12\" type=\"checkbox\" ><label for=\"sk-estimator-id-12\" class=\"sk-toggleable__label sk-toggleable__label-arrow\">DecisionTreeClassifier</label><div class=\"sk-toggleable__content\"><pre>DecisionTreeClassifier()</pre></div></div></div></div></div></div></div></div></div></div>"
      ],
      "text/plain": [
       "GridSearchCV(cv=StratifiedKFold(n_splits=5, random_state=None, shuffle=False),\n",
       "             estimator=DecisionTreeClassifier(), n_jobs=-1,\n",
       "             param_grid={'max_depth': [2, 10, 20, 30],\n",
       "                         'min_samples_leaf': [2, 20, 50],\n",
       "                         'min_samples_split': [2, 20, 50]},\n",
       "             scoring='f1')"
      ]
     },
     "execution_count": 82,
     "metadata": {},
     "output_type": "execute_result"
    }
   ],
   "source": [
    "# fit your grid-search! - it's an estimator so you fit it like a normal model.\n",
    "grid.fit(X_train, y_train)"
   ]
  },
  {
   "cell_type": "code",
   "execution_count": null,
   "metadata": {},
   "outputs": [],
   "source": []
  },
  {
   "cell_type": "markdown",
   "metadata": {},
   "source": [
    "## 2.1: Gridsearch Results \n",
    "\n",
    "1. What are the final parameters that were best?  (grid.best_params_)\n",
    "2. What was your models best score? (grid.best_score_)\n",
    "3. You can also print out the best estimator with grid.best_estimator_\n",
    "4. Go ahead and put your grid results into a dataframe. \n",
    "\n"
   ]
  },
  {
   "cell_type": "code",
   "execution_count": 83,
   "metadata": {},
   "outputs": [
    {
     "data": {
      "text/plain": [
       "{'max_depth': 10, 'min_samples_leaf': 2, 'min_samples_split': 20}"
      ]
     },
     "execution_count": 83,
     "metadata": {},
     "output_type": "execute_result"
    }
   ],
   "source": [
    "grid.best_params_"
   ]
  },
  {
   "cell_type": "markdown",
   "metadata": {},
   "source": []
  },
  {
   "cell_type": "code",
   "execution_count": 84,
   "metadata": {},
   "outputs": [
    {
     "data": {
      "text/plain": [
       "0.8908856579289335"
      ]
     },
     "execution_count": 84,
     "metadata": {},
     "output_type": "execute_result"
    }
   ],
   "source": [
    "grid.best_score_"
   ]
  },
  {
   "cell_type": "code",
   "execution_count": 85,
   "metadata": {},
   "outputs": [],
   "source": [
    "results = pd.DataFrame(grid.cv_results_)"
   ]
  },
  {
   "cell_type": "code",
   "execution_count": 86,
   "metadata": {},
   "outputs": [
    {
     "data": {
      "text/html": [
       "<div>\n",
       "<style scoped>\n",
       "    .dataframe tbody tr th:only-of-type {\n",
       "        vertical-align: middle;\n",
       "    }\n",
       "\n",
       "    .dataframe tbody tr th {\n",
       "        vertical-align: top;\n",
       "    }\n",
       "\n",
       "    .dataframe thead th {\n",
       "        text-align: right;\n",
       "    }\n",
       "</style>\n",
       "<table border=\"1\" class=\"dataframe\">\n",
       "  <thead>\n",
       "    <tr style=\"text-align: right;\">\n",
       "      <th></th>\n",
       "      <th>mean_fit_time</th>\n",
       "      <th>std_fit_time</th>\n",
       "      <th>mean_score_time</th>\n",
       "      <th>std_score_time</th>\n",
       "      <th>param_max_depth</th>\n",
       "      <th>param_min_samples_leaf</th>\n",
       "      <th>param_min_samples_split</th>\n",
       "      <th>params</th>\n",
       "      <th>split0_test_score</th>\n",
       "      <th>split1_test_score</th>\n",
       "      <th>split2_test_score</th>\n",
       "      <th>split3_test_score</th>\n",
       "      <th>split4_test_score</th>\n",
       "      <th>mean_test_score</th>\n",
       "      <th>std_test_score</th>\n",
       "      <th>rank_test_score</th>\n",
       "    </tr>\n",
       "  </thead>\n",
       "  <tbody>\n",
       "    <tr>\n",
       "      <th>0</th>\n",
       "      <td>0.009248</td>\n",
       "      <td>0.001123</td>\n",
       "      <td>0.004017</td>\n",
       "      <td>0.001173</td>\n",
       "      <td>2</td>\n",
       "      <td>2</td>\n",
       "      <td>2</td>\n",
       "      <td>{'max_depth': 2, 'min_samples_leaf': 2, 'min_s...</td>\n",
       "      <td>0.765799</td>\n",
       "      <td>0.815385</td>\n",
       "      <td>0.780564</td>\n",
       "      <td>0.793713</td>\n",
       "      <td>0.796813</td>\n",
       "      <td>0.790455</td>\n",
       "      <td>0.016603</td>\n",
       "      <td>28</td>\n",
       "    </tr>\n",
       "    <tr>\n",
       "      <th>1</th>\n",
       "      <td>0.011293</td>\n",
       "      <td>0.002989</td>\n",
       "      <td>0.003310</td>\n",
       "      <td>0.001947</td>\n",
       "      <td>2</td>\n",
       "      <td>2</td>\n",
       "      <td>20</td>\n",
       "      <td>{'max_depth': 2, 'min_samples_leaf': 2, 'min_s...</td>\n",
       "      <td>0.765799</td>\n",
       "      <td>0.815385</td>\n",
       "      <td>0.780564</td>\n",
       "      <td>0.793713</td>\n",
       "      <td>0.796813</td>\n",
       "      <td>0.790455</td>\n",
       "      <td>0.016603</td>\n",
       "      <td>28</td>\n",
       "    </tr>\n",
       "    <tr>\n",
       "      <th>2</th>\n",
       "      <td>0.011377</td>\n",
       "      <td>0.002465</td>\n",
       "      <td>0.003233</td>\n",
       "      <td>0.001172</td>\n",
       "      <td>2</td>\n",
       "      <td>2</td>\n",
       "      <td>50</td>\n",
       "      <td>{'max_depth': 2, 'min_samples_leaf': 2, 'min_s...</td>\n",
       "      <td>0.765799</td>\n",
       "      <td>0.815385</td>\n",
       "      <td>0.780564</td>\n",
       "      <td>0.793713</td>\n",
       "      <td>0.796813</td>\n",
       "      <td>0.790455</td>\n",
       "      <td>0.016603</td>\n",
       "      <td>28</td>\n",
       "    </tr>\n",
       "    <tr>\n",
       "      <th>3</th>\n",
       "      <td>0.009795</td>\n",
       "      <td>0.002381</td>\n",
       "      <td>0.003032</td>\n",
       "      <td>0.001297</td>\n",
       "      <td>2</td>\n",
       "      <td>20</td>\n",
       "      <td>2</td>\n",
       "      <td>{'max_depth': 2, 'min_samples_leaf': 20, 'min_...</td>\n",
       "      <td>0.765799</td>\n",
       "      <td>0.815385</td>\n",
       "      <td>0.780564</td>\n",
       "      <td>0.793713</td>\n",
       "      <td>0.796813</td>\n",
       "      <td>0.790455</td>\n",
       "      <td>0.016603</td>\n",
       "      <td>28</td>\n",
       "    </tr>\n",
       "    <tr>\n",
       "      <th>4</th>\n",
       "      <td>0.008773</td>\n",
       "      <td>0.001303</td>\n",
       "      <td>0.002162</td>\n",
       "      <td>0.001012</td>\n",
       "      <td>2</td>\n",
       "      <td>20</td>\n",
       "      <td>20</td>\n",
       "      <td>{'max_depth': 2, 'min_samples_leaf': 20, 'min_...</td>\n",
       "      <td>0.765799</td>\n",
       "      <td>0.815385</td>\n",
       "      <td>0.780564</td>\n",
       "      <td>0.793713</td>\n",
       "      <td>0.796813</td>\n",
       "      <td>0.790455</td>\n",
       "      <td>0.016603</td>\n",
       "      <td>28</td>\n",
       "    </tr>\n",
       "  </tbody>\n",
       "</table>\n",
       "</div>"
      ],
      "text/plain": [
       "   mean_fit_time  std_fit_time  mean_score_time  std_score_time  \\\n",
       "0       0.009248      0.001123         0.004017        0.001173   \n",
       "1       0.011293      0.002989         0.003310        0.001947   \n",
       "2       0.011377      0.002465         0.003233        0.001172   \n",
       "3       0.009795      0.002381         0.003032        0.001297   \n",
       "4       0.008773      0.001303         0.002162        0.001012   \n",
       "\n",
       "  param_max_depth param_min_samples_leaf param_min_samples_split  \\\n",
       "0               2                      2                       2   \n",
       "1               2                      2                      20   \n",
       "2               2                      2                      50   \n",
       "3               2                     20                       2   \n",
       "4               2                     20                      20   \n",
       "\n",
       "                                              params  split0_test_score  \\\n",
       "0  {'max_depth': 2, 'min_samples_leaf': 2, 'min_s...           0.765799   \n",
       "1  {'max_depth': 2, 'min_samples_leaf': 2, 'min_s...           0.765799   \n",
       "2  {'max_depth': 2, 'min_samples_leaf': 2, 'min_s...           0.765799   \n",
       "3  {'max_depth': 2, 'min_samples_leaf': 20, 'min_...           0.765799   \n",
       "4  {'max_depth': 2, 'min_samples_leaf': 20, 'min_...           0.765799   \n",
       "\n",
       "   split1_test_score  split2_test_score  split3_test_score  split4_test_score  \\\n",
       "0           0.815385           0.780564           0.793713           0.796813   \n",
       "1           0.815385           0.780564           0.793713           0.796813   \n",
       "2           0.815385           0.780564           0.793713           0.796813   \n",
       "3           0.815385           0.780564           0.793713           0.796813   \n",
       "4           0.815385           0.780564           0.793713           0.796813   \n",
       "\n",
       "   mean_test_score  std_test_score  rank_test_score  \n",
       "0         0.790455        0.016603               28  \n",
       "1         0.790455        0.016603               28  \n",
       "2         0.790455        0.016603               28  \n",
       "3         0.790455        0.016603               28  \n",
       "4         0.790455        0.016603               28  "
      ]
     },
     "execution_count": 86,
     "metadata": {},
     "output_type": "execute_result"
    }
   ],
   "source": [
    "results.head()"
   ]
  },
  {
   "cell_type": "code",
   "execution_count": 87,
   "metadata": {},
   "outputs": [
    {
     "name": "stdout",
     "output_type": "stream",
     "text": [
      "mean_fit_time                                                       0.030363\n",
      "std_fit_time                                                        0.001161\n",
      "mean_score_time                                                     0.002542\n",
      "std_score_time                                                       0.00134\n",
      "param_max_depth                                                           10\n",
      "param_min_samples_leaf                                                     2\n",
      "param_min_samples_split                                                   20\n",
      "params                     {'max_depth': 10, 'min_samples_leaf': 2, 'min_...\n",
      "split0_test_score                                                   0.871972\n",
      "split1_test_score                                                   0.895683\n",
      "split2_test_score                                                   0.900175\n",
      "split3_test_score                                                   0.904348\n",
      "split4_test_score                                                    0.88225\n",
      "mean_test_score                                                     0.890886\n",
      "std_test_score                                                      0.012024\n",
      "rank_test_score                                                            1\n",
      "Name: 10, dtype: object\n"
     ]
    }
   ],
   "source": [
    "results['rank_test_score']\n",
    "print(results.iloc[10])"
   ]
  },
  {
   "cell_type": "markdown",
   "metadata": {},
   "source": [
    "## 3.  Randomized Search\n",
    "\n",
    "#### Step 1, Distributions\n",
    "In order to do randomized search we need to draw from a distribution.  This can be a bit confusing so I will first just plot some distributions for you, then it will be pretty clear which ones we want to draw from.\n",
    "\n",
    "For decision trees most of the parameters we want to try out are integers. `min_samples_split`, `max_depth`, etc they are all integer numbers. So I will focus on distributions which draw integers"
   ]
  },
  {
   "cell_type": "code",
   "execution_count": 88,
   "metadata": {},
   "outputs": [],
   "source": [
    "import scipy"
   ]
  },
  {
   "cell_type": "code",
   "execution_count": 89,
   "metadata": {},
   "outputs": [
    {
     "data": {
      "image/png": "[encoded data removed]",
      "text/plain": [
       "<Figure size 640x480 with 1 Axes>"
      ]
     },
     "metadata": {},
     "output_type": "display_data"
    }
   ],
   "source": [
    "sns.histplot(scipy.stats.norm(5, scale=2).rvs(1000), kde=True);"
   ]
  },
  {
   "cell_type": "markdown",
   "metadata": {},
   "source": [
    "This is the gaussian or normal distribution.  In fact, we can't use it because it doesn't draw integers-- but I just wanted to show it to you! Well I suppose we could use it and then convert the output to integers."
   ]
  },
  {
   "cell_type": "code",
   "execution_count": 90,
   "metadata": {},
   "outputs": [
    {
     "data": {
      "image/png": "[encoded data removed]",
      "text/plain": [
       "<Figure size 640x480 with 1 Axes>"
      ]
     },
     "metadata": {},
     "output_type": "display_data"
    }
   ],
   "source": [
    "numbers = scipy.stats.norm(5, scale=2).rvs(1000)\n",
    "sns.histplot(numbers.astype(int), kde=True); "
   ]
  },
  {
   "cell_type": "markdown",
   "metadata": {},
   "source": [
    "So we can use the gaussian and convert to integers, or we can draw from a uniform random distribution. That's plotted below. It basically says \"pick a random number! Any random number!\""
   ]
  },
  {
   "cell_type": "code",
   "execution_count": 91,
   "metadata": {},
   "outputs": [
    {
     "data": {
      "image/png": "[encoded data removed]",
      "text/plain": [
       "<Figure size 640x480 with 1 Axes>"
      ]
     },
     "metadata": {},
     "output_type": "display_data"
    }
   ],
   "source": [
    "sns.histplot(scipy.stats.randint(0,50).rvs(3000), kde=True);"
   ]
  },
  {
   "cell_type": "markdown",
   "metadata": {},
   "source": [
    "So we need to choose a distribution for our grid-search. Based on what area we want to search we can choose uniform or int-converted gaussian. If we choose guassian we can \"target\" it by adjusting the mean and std, similarly we can set the range on the uniform distribution (the low and high ends).  You can decide what you want for your distribution. I will give you on example of how to setup the paramter grid for randomized search below."
   ]
  },
  {
   "cell_type": "code",
   "execution_count": 92,
   "metadata": {},
   "outputs": [],
   "source": [
    "rand_params = { 'max_depth': scipy.stats.randint(2,100),\n",
    "               'min_samples_leaf': scipy.stats.randint(2,50),\n",
    "               'min_samples_split': scipy.stats.randint(2,50)}\n",
    "\n",
    "## note that we don't say \"how many\" samples to draw in the param grid.\n",
    "## We will do that below when we create the RandomizedSearchCV object"
   ]
  },
  {
   "cell_type": "markdown",
   "metadata": {},
   "source": [
    "Note that we don't say \"how many\" samples to draw in the param grid. We will do that below when we create the RandomizedSearchCV object. You need to set the following\n",
    "* estimator\n",
    "* params\n",
    "* n_iters (this decides how many times to sample from the distribution per setting)\n",
    "* scoring\n",
    "* cv"
   ]
  },
  {
   "cell_type": "code",
   "execution_count": 93,
   "metadata": {},
   "outputs": [],
   "source": [
    "rand_search = RandomizedSearchCV(clf, rand_params, n_iter=10, scoring='f1',\n",
    "                                 n_jobs=-1, cv = StratifiedKFold(n_splits = 5))"
   ]
  },
  {
   "cell_type": "code",
   "execution_count": 94,
   "metadata": {},
   "outputs": [
    {
     "data": {
      "text/html": [
       "<style>#sk-container-id-5 {color: black;}#sk-container-id-5 pre{padding: 0;}#sk-container-id-5 div.sk-toggleable {background-color: white;}#sk-container-id-5 label.sk-toggleable__label {cursor: pointer;display: block;width: 100%;margin-bottom: 0;padding: 0.3em;box-sizing: border-box;text-align: center;}#sk-container-id-5 label.sk-toggleable__label-arrow:before {content: \"▸\";float: left;margin-right: 0.25em;color: #696969;}#sk-container-id-5 label.sk-toggleable__label-arrow:hover:before {color: black;}#sk-container-id-5 div.sk-estimator:hover label.sk-toggleable__label-arrow:before {color: black;}#sk-container-id-5 div.sk-toggleable__content {max-height: 0;max-width: 0;overflow: hidden;text-align: left;background-color: #f0f8ff;}#sk-container-id-5 div.sk-toggleable__content pre {margin: 0.2em;color: black;border-radius: 0.25em;background-color: #f0f8ff;}#sk-container-id-5 input.sk-toggleable__control:checked~div.sk-toggleable__content {max-height: 200px;max-width: 100%;overflow: auto;}#sk-container-id-5 input.sk-toggleable__control:checked~label.sk-toggleable__label-arrow:before {content: \"▾\";}#sk-container-id-5 div.sk-estimator input.sk-toggleable__control:checked~label.sk-toggleable__label {background-color: #d4ebff;}#sk-container-id-5 div.sk-label input.sk-toggleable__control:checked~label.sk-toggleable__label {background-color: #d4ebff;}#sk-container-id-5 input.sk-hidden--visually {border: 0;clip: rect(1px 1px 1px 1px);clip: rect(1px, 1px, 1px, 1px);height: 1px;margin: -1px;overflow: hidden;padding: 0;position: absolute;width: 1px;}#sk-container-id-5 div.sk-estimator {font-family: monospace;background-color: #f0f8ff;border: 1px dotted black;border-radius: 0.25em;box-sizing: border-box;margin-bottom: 0.5em;}#sk-container-id-5 div.sk-estimator:hover {background-color: #d4ebff;}#sk-container-id-5 div.sk-parallel-item::after {content: \"\";width: 100%;border-bottom: 1px solid gray;flex-grow: 1;}#sk-container-id-5 div.sk-label:hover label.sk-toggleable__label {background-color: #d4ebff;}#sk-container-id-5 div.sk-serial::before {content: \"\";position: absolute;border-left: 1px solid gray;box-sizing: border-box;top: 0;bottom: 0;left: 50%;z-index: 0;}#sk-container-id-5 div.sk-serial {display: flex;flex-direction: column;align-items: center;background-color: white;padding-right: 0.2em;padding-left: 0.2em;position: relative;}#sk-container-id-5 div.sk-item {position: relative;z-index: 1;}#sk-container-id-5 div.sk-parallel {display: flex;align-items: stretch;justify-content: center;background-color: white;position: relative;}#sk-container-id-5 div.sk-item::before, #sk-container-id-5 div.sk-parallel-item::before {content: \"\";position: absolute;border-left: 1px solid gray;box-sizing: border-box;top: 0;bottom: 0;left: 50%;z-index: -1;}#sk-container-id-5 div.sk-parallel-item {display: flex;flex-direction: column;z-index: 1;position: relative;background-color: white;}#sk-container-id-5 div.sk-parallel-item:first-child::after {align-self: flex-end;width: 50%;}#sk-container-id-5 div.sk-parallel-item:last-child::after {align-self: flex-start;width: 50%;}#sk-container-id-5 div.sk-parallel-item:only-child::after {width: 0;}#sk-container-id-5 div.sk-dashed-wrapped {border: 1px dashed gray;margin: 0 0.4em 0.5em 0.4em;box-sizing: border-box;padding-bottom: 0.4em;background-color: white;}#sk-container-id-5 div.sk-label label {font-family: monospace;font-weight: bold;display: inline-block;line-height: 1.2em;}#sk-container-id-5 div.sk-label-container {text-align: center;}#sk-container-id-5 div.sk-container {/* jupyter's `normalize.less` sets `[hidden] { display: none; }` but bootstrap.min.css set `[hidden] { display: none !important; }` so we also need the `!important` here to be able to override the default hidden behavior on the sphinx rendered scikit-learn.org. See: https://github.com/scikit-learn/scikit-learn/issues/21755 */display: inline-block !important;position: relative;}#sk-container-id-5 div.sk-text-repr-fallback {display: none;}</style><div id=\"sk-container-id-5\" class=\"sk-top-container\"><div class=\"sk-text-repr-fallback\"><pre>RandomizedSearchCV(cv=StratifiedKFold(n_splits=5, random_state=None, shuffle=False),\n",
       "                   estimator=DecisionTreeClassifier(), n_jobs=-1,\n",
       "                   param_distributions={&#x27;max_depth&#x27;: &lt;scipy.stats._distn_infrastructure.rv_discrete_frozen object at 0x156efc640&gt;,\n",
       "                                        &#x27;min_samples_leaf&#x27;: &lt;scipy.stats._distn_infrastructure.rv_discrete_frozen object at 0x156e343a0&gt;,\n",
       "                                        &#x27;min_samples_split&#x27;: &lt;scipy.stats._distn_infrastructure.rv_discrete_frozen object at 0x156efc9a0&gt;},\n",
       "                   scoring=&#x27;f1&#x27;)</pre><b>In a Jupyter environment, please rerun this cell to show the HTML representation or trust the notebook. <br />On GitHub, the HTML representation is unable to render, please try loading this page with nbviewer.org.</b></div><div class=\"sk-container\" hidden><div class=\"sk-item sk-dashed-wrapped\"><div class=\"sk-label-container\"><div class=\"sk-label sk-toggleable\"><input class=\"sk-toggleable__control sk-hidden--visually\" id=\"sk-estimator-id-13\" type=\"checkbox\" ><label for=\"sk-estimator-id-13\" class=\"sk-toggleable__label sk-toggleable__label-arrow\">RandomizedSearchCV</label><div class=\"sk-toggleable__content\"><pre>RandomizedSearchCV(cv=StratifiedKFold(n_splits=5, random_state=None, shuffle=False),\n",
       "                   estimator=DecisionTreeClassifier(), n_jobs=-1,\n",
       "                   param_distributions={&#x27;max_depth&#x27;: &lt;scipy.stats._distn_infrastructure.rv_discrete_frozen object at 0x156efc640&gt;,\n",
       "                                        &#x27;min_samples_leaf&#x27;: &lt;scipy.stats._distn_infrastructure.rv_discrete_frozen object at 0x156e343a0&gt;,\n",
       "                                        &#x27;min_samples_split&#x27;: &lt;scipy.stats._distn_infrastructure.rv_discrete_frozen object at 0x156efc9a0&gt;},\n",
       "                   scoring=&#x27;f1&#x27;)</pre></div></div></div><div class=\"sk-parallel\"><div class=\"sk-parallel-item\"><div class=\"sk-item\"><div class=\"sk-label-container\"><div class=\"sk-label sk-toggleable\"><input class=\"sk-toggleable__control sk-hidden--visually\" id=\"sk-estimator-id-14\" type=\"checkbox\" ><label for=\"sk-estimator-id-14\" class=\"sk-toggleable__label sk-toggleable__label-arrow\">estimator: DecisionTreeClassifier</label><div class=\"sk-toggleable__content\"><pre>DecisionTreeClassifier()</pre></div></div></div><div class=\"sk-serial\"><div class=\"sk-item\"><div class=\"sk-estimator sk-toggleable\"><input class=\"sk-toggleable__control sk-hidden--visually\" id=\"sk-estimator-id-15\" type=\"checkbox\" ><label for=\"sk-estimator-id-15\" class=\"sk-toggleable__label sk-toggleable__label-arrow\">DecisionTreeClassifier</label><div class=\"sk-toggleable__content\"><pre>DecisionTreeClassifier()</pre></div></div></div></div></div></div></div></div></div></div>"
      ],
      "text/plain": [
       "RandomizedSearchCV(cv=StratifiedKFold(n_splits=5, random_state=None, shuffle=False),\n",
       "                   estimator=DecisionTreeClassifier(), n_jobs=-1,\n",
       "                   param_distributions={'max_depth': <scipy.stats._distn_infrastructure.rv_discrete_frozen object at 0x156efc640>,\n",
       "                                        'min_samples_leaf': <scipy.stats._distn_infrastructure.rv_discrete_frozen object at 0x156e343a0>,\n",
       "                                        'min_samples_split': <scipy.stats._distn_infrastructure.rv_discrete_frozen object at 0x156efc9a0>},\n",
       "                   scoring='f1')"
      ]
     },
     "execution_count": 94,
     "metadata": {},
     "output_type": "execute_result"
    }
   ],
   "source": [
    "rand_search.fit(X_train, y_train)"
   ]
  },
  {
   "cell_type": "markdown",
   "metadata": {},
   "source": [
    "### Did you find different best parameters?\n",
    "Which method do you like more?\n",
    "What method do you think got better results?\n",
    "Why? Why not?\n",
    "\n"
   ]
  },
  {
   "cell_type": "markdown",
   "metadata": {},
   "source": [
    "### You answers here"
   ]
  },
  {
   "cell_type": "code",
   "execution_count": 95,
   "metadata": {},
   "outputs": [
    {
     "data": {
      "text/plain": [
       "0.8855487915020724"
      ]
     },
     "execution_count": 95,
     "metadata": {},
     "output_type": "execute_result"
    }
   ],
   "source": [
    "rand_search.best_score_"
   ]
  },
  {
   "cell_type": "code",
   "execution_count": 96,
   "metadata": {},
   "outputs": [
    {
     "data": {
      "text/plain": [
       "{'max_depth': 87, 'min_samples_leaf': 9, 'min_samples_split': 6}"
      ]
     },
     "execution_count": 96,
     "metadata": {},
     "output_type": "execute_result"
    }
   ],
   "source": [
    "rand_search.best_params_"
   ]
  },
  {
   "cell_type": "code",
   "execution_count": null,
   "metadata": {},
   "outputs": [],
   "source": []
  },
  {
   "cell_type": "markdown",
   "metadata": {},
   "source": []
  },
  {
   "cell_type": "markdown",
   "metadata": {},
   "source": [
    "## 4. Validate your classifier using\n",
    "\n",
    "1. Learning Curve\n",
    "2. Validation Curves (complexity graph)\n",
    "\n",
    "Please plot at least 3 different validation curves for 3 different hyper-parameters than you can tune.\n",
    "\n",
    "You can (and should) use the imported functions `plot_validation_curve` and `plot_learning_curve`. These functions are originally found on sklearn's site but I did modify them slightly for our use. You can check out the full code in plotting.py, which also contains links to the original source code."
   ]
  },
  {
   "cell_type": "code",
   "execution_count": 99,
   "metadata": {},
   "outputs": [],
   "source": [
    "k = StratifiedKFold(n_splits = 5)"
   ]
  },
  {
   "cell_type": "code",
   "execution_count": null,
   "metadata": {},
   "outputs": [],
   "source": [
    "val1 = plotting.plot_validation_curve(Dec)"
   ]
  },
  {
   "cell_type": "code",
   "execution_count": 98,
   "metadata": {},
   "outputs": [
    {
     "ename": "NameError",
     "evalue": "name 'plotting' is not defined",
     "output_type": "error",
     "traceback": [
      "\u001b[0;31m---------------------------------------------------------------------------\u001b[0m",
      "\u001b[0;31mNameError\u001b[0m                                 Traceback (most recent call last)",
      "Cell \u001b[0;32mIn[98], line 1\u001b[0m\n\u001b[0;32m----> 1\u001b[0m fig \u001b[38;5;241m=\u001b[39m \u001b[43mplotting\u001b[49m\u001b[38;5;241m.\u001b[39mplot_learning_curve(rand_search\u001b[38;5;241m.\u001b[39mbest_estimator_, \u001b[38;5;124m\"\u001b[39m\u001b[38;5;124mLearning Curves\u001b[39m\u001b[38;5;124m\"\u001b[39m, X_train, y_train,\n\u001b[1;32m      2\u001b[0m                                     cv\u001b[38;5;241m=\u001b[39mStratifiedKFold(n_splits\u001b[38;5;241m=\u001b[39m\u001b[38;5;241m5\u001b[39m), train_sizes\u001b[38;5;241m=\u001b[39mnp\u001b[38;5;241m.\u001b[39mlinspace(\u001b[38;5;241m.1\u001b[39m, \u001b[38;5;241m1.0\u001b[39m, \u001b[38;5;241m10\u001b[39m),\n\u001b[1;32m      3\u001b[0m                                     scoring\u001b[38;5;241m=\u001b[39m\u001b[38;5;124m'\u001b[39m\u001b[38;5;124mf1\u001b[39m\u001b[38;5;124m'\u001b[39m)\n",
      "\u001b[0;31mNameError\u001b[0m: name 'plotting' is not defined"
     ]
    }
   ],
   "source": [
    "fig = plotting.plot_learning_curve(rand_search.best_estimator_, \"Learning Curves\", X_train, y_train,\n",
    "                                    cv=StratifiedKFold(n_splits=5), train_sizes=np.linspace(.1, 1.0, 10),\n",
    "                                    scoring='f1')"
   ]
  },
  {
   "cell_type": "code",
   "execution_count": null,
   "metadata": {},
   "outputs": [],
   "source": []
  },
  {
   "cell_type": "code",
   "execution_count": null,
   "metadata": {},
   "outputs": [],
   "source": []
  },
  {
   "cell_type": "markdown",
   "metadata": {},
   "source": [
    "## 5. Choose your best parameters:\n",
    "\n",
    "Keep in mind that the random-search and grid-search will always maximize the validation score, even if it's in the area of overfitting. Looking at the validation curves you created, what you do think are the best parameter values?\n",
    "\n",
    "Now create a tree model with this and fit it."
   ]
  },
  {
   "cell_type": "code",
   "execution_count": null,
   "metadata": {},
   "outputs": [],
   "source": []
  },
  {
   "cell_type": "code",
   "execution_count": null,
   "metadata": {},
   "outputs": [],
   "source": []
  },
  {
   "cell_type": "code",
   "execution_count": null,
   "metadata": {},
   "outputs": [],
   "source": []
  },
  {
   "cell_type": "markdown",
   "metadata": {},
   "source": [
    "## 6. Looking at Feature Importances\n",
    "\n",
    "Decision trees have a nice property that they can automatically sort your features by importance. This just naturally falls out from the gini coefficient or the information gain ratio (whichever one you used).  Therefore we can run a little code and actually see which features our model found to be the most important.\n",
    "\n",
    "\n",
    "The code from Chris Albon below will help you do this, go ahead and run it."
   ]
  },
  {
   "cell_type": "code",
   "execution_count": null,
   "metadata": {},
   "outputs": [],
   "source": [
    "## https://chrisalbon.com/machine_learning/trees_and_forests/feature_importance/\n",
    "\n",
    "importances = my_fav_clf.feature_importances_\n",
    "\n",
    "indices = np.argsort(importances)[::-1]\n",
    "\n",
    "# rearrange feature names so they match the sorted feature names\n",
    "# I have my original names list of feature names, which corresponds to the features in the tree.\n",
    "f_names = [names[i] for i in indices]\n",
    "\n",
    "#create my plot\n",
    "fig, axes = plt.subplots(figsize=(20,5))\n",
    "axes.set_title(\"Feature Importances\")\n",
    "axes.bar(range(X_train.shape[1]), importances[indices])\n",
    "\n",
    "# Add feature names as x-axis labels\n",
    "axes.set_xticks(range(X.shape[1]));\n",
    "axes.set_xticklabels(f_names, rotation=45, ha='right');\n"
   ]
  },
  {
   "cell_type": "markdown",
   "metadata": {},
   "source": [
    "What is the most important feature that your model found? Does this surprise you, why or why not?\n",
    "\n",
    "#### Your Answers:"
   ]
  },
  {
   "cell_type": "code",
   "execution_count": null,
   "metadata": {},
   "outputs": [],
   "source": []
  },
  {
   "cell_type": "code",
   "execution_count": null,
   "metadata": {},
   "outputs": [],
   "source": []
  },
  {
   "cell_type": "markdown",
   "metadata": {},
   "source": [
    "## 6. Test your data.\n",
    "\n",
    "Retrain your model using all the training data and using the hyper parameters you think are best. \n",
    "Then go ahead and test your model with the test data. Evaluate your model by testing on the test set. How did you do? What is your performance?\n",
    "\n",
    "As always, ask yourself the question \"If I was doing this professionally for a company, what other questions would I want answered?\" Is this model ready to go??\n"
   ]
  },
  {
   "cell_type": "code",
   "execution_count": null,
   "metadata": {},
   "outputs": [],
   "source": []
  },
  {
   "cell_type": "code",
   "execution_count": null,
   "metadata": {},
   "outputs": [],
   "source": []
  },
  {
   "cell_type": "code",
   "execution_count": null,
   "metadata": {},
   "outputs": [],
   "source": []
  },
  {
   "cell_type": "code",
   "execution_count": null,
   "metadata": {},
   "outputs": [],
   "source": []
  }
 ],
 "metadata": {
  "kernelspec": {
   "display_name": "Python 3 (ipykernel)",
   "language": "python",
   "name": "python3"
  },
  "language_info": {
   "codemirror_mode": {
    "name": "ipython",
    "version": 3
   },
   "file_extension": ".py",
   "mimetype": "text/x-python",
   "name": "python",
   "nbconvert_exporter": "python",
   "pygments_lexer": "ipython3",
   "version": "3.10.13"
  }
 },
 "nbformat": 4,
 "nbformat_minor": 4
}
