{
 "cells": [
  {
   "cell_type": "code",
   "execution_count": 5,
   "metadata": {},
   "outputs": [],
   "source": [
    "import numpy as np\n",
    "import pandas as pd\n",
    "import matplotlib.pyplot as plt\n",
    "import seaborn as sns\n",
    "sns.set()\n",
    "%matplotlib inline\n",
    "\n",
    "#preprocessing\n",
    "from sklearn.preprocessing import StandardScaler, MinMaxScaler\n",
    "from scipy.stats import mode\n",
    "\n",
    "\n",
    "# pipelines\n",
    "from sklearn.pipeline import Pipeline\n",
    "\n"
   ]
  },
  {
   "cell_type": "markdown",
   "metadata": {},
   "source": [
    "# Customer Data\n",
    "\n",
    "In this assignment we are going to examine some customer data gathering from my very famous internet company \"the best one ever\".  \"The best one ever\" is the best company ever that sells important things online.  In this investigation we want to find if there are any natural groups of customers in my dataset.  The first step is to just get the data in a format we can feed to our machine learning models. Once we do that, then our boss (some dude named Gilad), said he will teach us how to cluster the customers! But it turns out you need to have the _data_ formatted in some special way...? Maybe you can tell me about that!"
   ]
  },
  {
   "cell_type": "code",
   "execution_count": 6,
   "metadata": {},
   "outputs": [],
   "source": [
    "# Read in the data found in \"best_one_ever_database.csv\" and take a look at the head and info.\n",
    "data = pd.read_csv(\"best_one_ever_database.csv\", index_col = 'id')"
   ]
  },
  {
   "cell_type": "code",
   "execution_count": 7,
   "metadata": {},
   "outputs": [
    {
     "data": {
      "text/html": [
       "<div>\n",
       "<style scoped>\n",
       "    .dataframe tbody tr th:only-of-type {\n",
       "        vertical-align: middle;\n",
       "    }\n",
       "\n",
       "    .dataframe tbody tr th {\n",
       "        vertical-align: top;\n",
       "    }\n",
       "\n",
       "    .dataframe thead th {\n",
       "        text-align: right;\n",
       "    }\n",
       "</style>\n",
       "<table border=\"1\" class=\"dataframe\">\n",
       "  <thead>\n",
       "    <tr style=\"text-align: right;\">\n",
       "      <th></th>\n",
       "      <th>first_name</th>\n",
       "      <th>last_name</th>\n",
       "      <th>email</th>\n",
       "      <th>gender</th>\n",
       "      <th>ip_address</th>\n",
       "      <th>sales</th>\n",
       "      <th>zip_code</th>\n",
       "      <th>total_num_of_transactions</th>\n",
       "      <th>prob_of_rebuy</th>\n",
       "      <th>money_spent</th>\n",
       "    </tr>\n",
       "    <tr>\n",
       "      <th>id</th>\n",
       "      <th></th>\n",
       "      <th></th>\n",
       "      <th></th>\n",
       "      <th></th>\n",
       "      <th></th>\n",
       "      <th></th>\n",
       "      <th></th>\n",
       "      <th></th>\n",
       "      <th></th>\n",
       "      <th></th>\n",
       "    </tr>\n",
       "  </thead>\n",
       "  <tbody>\n",
       "    <tr>\n",
       "      <th>1</th>\n",
       "      <td>Jarred</td>\n",
       "      <td>Hallsworth</td>\n",
       "      <td>jhallsworth0@biblegateway.com</td>\n",
       "      <td>Non-Binary</td>\n",
       "      <td>223.109.240.148</td>\n",
       "      <td>$606.16</td>\n",
       "      <td>85349</td>\n",
       "      <td>7</td>\n",
       "      <td>NaN</td>\n",
       "      <td>3310.505486</td>\n",
       "    </tr>\n",
       "    <tr>\n",
       "      <th>2</th>\n",
       "      <td>Wayne</td>\n",
       "      <td>Robez</td>\n",
       "      <td>wrobez1@t.co</td>\n",
       "      <td>Male</td>\n",
       "      <td>73.174.113.87</td>\n",
       "      <td>$147.22</td>\n",
       "      <td>85336</td>\n",
       "      <td>9</td>\n",
       "      <td>NaN</td>\n",
       "      <td>2188.852818</td>\n",
       "    </tr>\n",
       "    <tr>\n",
       "      <th>3</th>\n",
       "      <td>Casper</td>\n",
       "      <td>Hayles</td>\n",
       "      <td>chayles2@cdc.gov</td>\n",
       "      <td>Male</td>\n",
       "      <td>223.249.117.173</td>\n",
       "      <td>$801.97</td>\n",
       "      <td>85350</td>\n",
       "      <td>4</td>\n",
       "      <td>0.597445</td>\n",
       "      <td>2640.499644</td>\n",
       "    </tr>\n",
       "    <tr>\n",
       "      <th>4</th>\n",
       "      <td>Mandie</td>\n",
       "      <td>Szepe</td>\n",
       "      <td>mszepe3@lulu.com</td>\n",
       "      <td>Female</td>\n",
       "      <td>31.143.95.228</td>\n",
       "      <td>$336.77</td>\n",
       "      <td>85364</td>\n",
       "      <td>4</td>\n",
       "      <td>NaN</td>\n",
       "      <td>2872.580992</td>\n",
       "    </tr>\n",
       "    <tr>\n",
       "      <th>5</th>\n",
       "      <td>Noam</td>\n",
       "      <td>Cecely</td>\n",
       "      <td>ncecely4@elegantthemes.com</td>\n",
       "      <td>Male</td>\n",
       "      <td>63.71.174.230</td>\n",
       "      <td>$757.45</td>\n",
       "      <td>85369</td>\n",
       "      <td>8</td>\n",
       "      <td>0.127835</td>\n",
       "      <td>2728.008966</td>\n",
       "    </tr>\n",
       "  </tbody>\n",
       "</table>\n",
       "</div>"
      ],
      "text/plain": [
       "   first_name   last_name                          email      gender  \\\n",
       "id                                                                     \n",
       "1      Jarred  Hallsworth  jhallsworth0@biblegateway.com  Non-Binary   \n",
       "2       Wayne       Robez                   wrobez1@t.co        Male   \n",
       "3      Casper      Hayles               chayles2@cdc.gov        Male   \n",
       "4      Mandie       Szepe               mszepe3@lulu.com      Female   \n",
       "5        Noam      Cecely     ncecely4@elegantthemes.com        Male   \n",
       "\n",
       "         ip_address     sales  zip_code  total_num_of_transactions  \\\n",
       "id                                                                   \n",
       "1   223.109.240.148  $606.16      85349                          7   \n",
       "2     73.174.113.87  $147.22      85336                          9   \n",
       "3   223.249.117.173  $801.97      85350                          4   \n",
       "4     31.143.95.228  $336.77      85364                          4   \n",
       "5     63.71.174.230  $757.45      85369                          8   \n",
       "\n",
       "    prob_of_rebuy  money_spent  \n",
       "id                              \n",
       "1             NaN  3310.505486  \n",
       "2             NaN  2188.852818  \n",
       "3        0.597445  2640.499644  \n",
       "4             NaN  2872.580992  \n",
       "5        0.127835  2728.008966  "
      ]
     },
     "execution_count": 7,
     "metadata": {},
     "output_type": "execute_result"
    }
   ],
   "source": [
    "data.head()"
   ]
  },
  {
   "cell_type": "code",
   "execution_count": 8,
   "metadata": {},
   "outputs": [
    {
     "data": {
      "text/plain": [
       "gender\n",
       "Male          775\n",
       "Female        725\n",
       "Non-Binary    500\n",
       "Name: count, dtype: int64"
      ]
     },
     "execution_count": 8,
     "metadata": {},
     "output_type": "execute_result"
    }
   ],
   "source": [
    "data['gender'].value_counts()"
   ]
  },
  {
   "cell_type": "code",
   "execution_count": 10,
   "metadata": {},
   "outputs": [
    {
     "name": "stdout",
     "output_type": "stream",
     "text": [
      "<class 'pandas.core.frame.DataFrame'>\n",
      "Index: 2000 entries, 1 to 2000\n",
      "Data columns (total 10 columns):\n",
      " #   Column                     Non-Null Count  Dtype  \n",
      "---  ------                     --------------  -----  \n",
      " 0   first_name                 2000 non-null   object \n",
      " 1   last_name                  2000 non-null   object \n",
      " 2   email                      2000 non-null   object \n",
      " 3   gender                     2000 non-null   object \n",
      " 4   ip_address                 2000 non-null   object \n",
      " 5   sales                      2000 non-null   object \n",
      " 6   zip_code                   2000 non-null   int64  \n",
      " 7   total_num_of_transactions  2000 non-null   int64  \n",
      " 8   prob_of_rebuy              1538 non-null   float64\n",
      " 9   money_spent                1690 non-null   float64\n",
      "dtypes: float64(2), int64(2), object(6)\n",
      "memory usage: 171.9+ KB\n"
     ]
    }
   ],
   "source": [
    "data.info()"
   ]
  },
  {
   "cell_type": "code",
   "execution_count": null,
   "metadata": {},
   "outputs": [],
   "source": []
  },
  {
   "cell_type": "markdown",
   "metadata": {},
   "source": [
    "# Cleaning The Data\n",
    "# Cleaning The Data\n",
    "\n",
    "Taking a look at the data you have to ask yourself the questions\n",
    "\n",
    "1. 'Which columns are useful for me to keep?'\n",
    "2. 'Are all the columns usable as features?\n",
    "\n",
    "Then you may have to do some \"work\" to get the column to be usable. Let's look at one column together. The first column is titled \"first_name\" and it seems to be the first name of each customer. Is this a usable feature? Well... not exactly in string format. So I guess I could one hot encode them into binary vectors, but even then... do I want to cluster the customers based on their first name? You can imagine some situation where clustering by name might be relevant (for example trying to guess what generation someone belonged to?) but in this case it seems like it's more of a unique identifier so it may be best to simply remove it. If every value in a column is unique (there are no duplications of the value) then we shouldn't use it as a feature because it will have a 1-1 mapping with the target variable which is not something we ever want. We want our model to learn and generalize from the features, not memorize that the name \"jane\" bought 5 cans of soda.\n",
    "\n",
    "Ok, that's the first column, we vote drop! Now you have to go through each and every column and ask yourself \"do I keep it? if yes, what extra work might I have to do?\" \n",
    "\n",
    "Let's walk through it\n",
    "  \n",
    "  1. first_name:  this is a unique identifier so we should remove it.\n",
    "  2. last_name: see above\n",
    "  3. email: this is unique to an extent.  BUT if we strip the name@ portion of the email and simply keep the domain name, it could possibly aid us. Perhaps certain kinds of customers use certain email services! Worth looking into\n",
    "  4. Gender: this is certainly relevant, but it's categorical data. We will need to one-hot-encode it.\n",
    "  5. ip_address: We can perhaps segment the ip's into fields and use them, there maybe overlaps or correlations among different fields. Or maybe you know more about IP addresses than I do and this is totally useless\n",
    "  6. sales: we certainly need this column, but we need to convert it a floating point type: remove the '$' and convert the dtype of the column\n",
    "  7. zip_code: I think we can just leave this as is.\n",
    "  8. prob-of_rebuy: I think we can just leave this as is.\n",
    "  9. Money_spent: seems fine to me!\n",
    "  "
   ]
  },
  {
   "cell_type": "code",
   "execution_count": 11,
   "metadata": {},
   "outputs": [],
   "source": [
    "# drop the name columns using pandas.drop()\n",
    "X = data.drop(labels = ['first_name','last_name'], axis = 1) # fill in the parameters"
   ]
  },
  {
   "cell_type": "code",
   "execution_count": 12,
   "metadata": {},
   "outputs": [
    {
     "name": "stdout",
     "output_type": "stream",
     "text": [
      "<class 'pandas.core.frame.DataFrame'>\n",
      "Index: 2000 entries, 1 to 2000\n",
      "Data columns (total 8 columns):\n",
      " #   Column                     Non-Null Count  Dtype  \n",
      "---  ------                     --------------  -----  \n",
      " 0   email                      2000 non-null   object \n",
      " 1   gender                     2000 non-null   object \n",
      " 2   ip_address                 2000 non-null   object \n",
      " 3   sales                      2000 non-null   object \n",
      " 4   zip_code                   2000 non-null   int64  \n",
      " 5   total_num_of_transactions  2000 non-null   int64  \n",
      " 6   prob_of_rebuy              1538 non-null   float64\n",
      " 7   money_spent                1690 non-null   float64\n",
      "dtypes: float64(2), int64(2), object(4)\n",
      "memory usage: 140.6+ KB\n"
     ]
    }
   ],
   "source": [
    "# always reasonable to check `.info()` or .head() after an operation to make sure it worked\n",
    "# how you thought, at least until you are comfortable with the methods / functions\n",
    "X.info()"
   ]
  },
  {
   "cell_type": "markdown",
   "metadata": {},
   "source": [
    "### Transform string columns into useful features\n",
    "\n",
    "1. email column\n",
    "2. sales column (remove $ sign)\n",
    "\n",
    "We will use the pandas `apply` function take a function that operates on a string and apply it to the entire column. I will do the first one, and you will do the next one."
   ]
  },
  {
   "cell_type": "code",
   "execution_count": 13,
   "metadata": {},
   "outputs": [],
   "source": [
    "def strip_dollar(x):\n",
    "    return x[1:]"
   ]
  },
  {
   "cell_type": "code",
   "execution_count": 14,
   "metadata": {},
   "outputs": [
    {
     "data": {
      "text/plain": [
       "'100.00'"
      ]
     },
     "execution_count": 14,
     "metadata": {},
     "output_type": "execute_result"
    }
   ],
   "source": [
    "strip_dollar(\"$100.00\")"
   ]
  },
  {
   "cell_type": "code",
   "execution_count": 15,
   "metadata": {},
   "outputs": [
    {
     "data": {
      "text/plain": [
       "function"
      ]
     },
     "execution_count": 15,
     "metadata": {},
     "output_type": "execute_result"
    }
   ],
   "source": [
    "type(strip_dollar)"
   ]
  },
  {
   "cell_type": "code",
   "execution_count": 19,
   "metadata": {},
   "outputs": [],
   "source": [
    "# apply the function to the column and assign it back to the column (it does not work inplace)\n",
    "X['sales'] = X['sales'].apply(strip_dollar)"
   ]
  },
  {
   "cell_type": "code",
   "execution_count": 20,
   "metadata": {},
   "outputs": [
    {
     "data": {
      "text/plain": [
       "str"
      ]
     },
     "execution_count": 20,
     "metadata": {},
     "output_type": "execute_result"
    }
   ],
   "source": [
    "type(X['sales'].iloc[0])"
   ]
  },
  {
   "cell_type": "code",
   "execution_count": 21,
   "metadata": {},
   "outputs": [],
   "source": [
    "# cast the column to a floating point type - this is very important, otherwise it will be\n",
    "# an object type column that we cannot do arithmetic on the column\n",
    "\n",
    "X.sales = X.sales.astype('float32')"
   ]
  },
  {
   "cell_type": "code",
   "execution_count": 24,
   "metadata": {},
   "outputs": [
    {
     "data": {
      "text/plain": [
       "552.2212"
      ]
     },
     "execution_count": 24,
     "metadata": {},
     "output_type": "execute_result"
    }
   ],
   "source": [
    "X[\"sales\"].mean()"
   ]
  },
  {
   "cell_type": "code",
   "execution_count": 25,
   "metadata": {},
   "outputs": [
    {
     "data": {
      "text/plain": [
       "id\n",
       "1    606.159973\n",
       "2    147.220001\n",
       "3    801.969971\n",
       "4    336.769989\n",
       "5    757.450012\n",
       "Name: sales, dtype: float32"
      ]
     },
     "execution_count": 25,
     "metadata": {},
     "output_type": "execute_result"
    }
   ],
   "source": [
    "X['sales'].head()"
   ]
  },
  {
   "cell_type": "code",
   "execution_count": 23,
   "metadata": {},
   "outputs": [
    {
     "data": {
      "text/html": [
       "<div>\n",
       "<style scoped>\n",
       "    .dataframe tbody tr th:only-of-type {\n",
       "        vertical-align: middle;\n",
       "    }\n",
       "\n",
       "    .dataframe tbody tr th {\n",
       "        vertical-align: top;\n",
       "    }\n",
       "\n",
       "    .dataframe thead th {\n",
       "        text-align: right;\n",
       "    }\n",
       "</style>\n",
       "<table border=\"1\" class=\"dataframe\">\n",
       "  <thead>\n",
       "    <tr style=\"text-align: right;\">\n",
       "      <th></th>\n",
       "      <th>email</th>\n",
       "      <th>gender</th>\n",
       "      <th>ip_address</th>\n",
       "      <th>sales</th>\n",
       "      <th>zip_code</th>\n",
       "      <th>total_num_of_transactions</th>\n",
       "      <th>prob_of_rebuy</th>\n",
       "      <th>money_spent</th>\n",
       "    </tr>\n",
       "    <tr>\n",
       "      <th>id</th>\n",
       "      <th></th>\n",
       "      <th></th>\n",
       "      <th></th>\n",
       "      <th></th>\n",
       "      <th></th>\n",
       "      <th></th>\n",
       "      <th></th>\n",
       "      <th></th>\n",
       "    </tr>\n",
       "  </thead>\n",
       "  <tbody>\n",
       "    <tr>\n",
       "      <th>1</th>\n",
       "      <td>jhallsworth0@biblegateway.com</td>\n",
       "      <td>Non-Binary</td>\n",
       "      <td>223.109.240.148</td>\n",
       "      <td>606.159973</td>\n",
       "      <td>85349</td>\n",
       "      <td>7</td>\n",
       "      <td>NaN</td>\n",
       "      <td>3310.505486</td>\n",
       "    </tr>\n",
       "    <tr>\n",
       "      <th>2</th>\n",
       "      <td>wrobez1@t.co</td>\n",
       "      <td>Male</td>\n",
       "      <td>73.174.113.87</td>\n",
       "      <td>147.220001</td>\n",
       "      <td>85336</td>\n",
       "      <td>9</td>\n",
       "      <td>NaN</td>\n",
       "      <td>2188.852818</td>\n",
       "    </tr>\n",
       "    <tr>\n",
       "      <th>3</th>\n",
       "      <td>chayles2@cdc.gov</td>\n",
       "      <td>Male</td>\n",
       "      <td>223.249.117.173</td>\n",
       "      <td>801.969971</td>\n",
       "      <td>85350</td>\n",
       "      <td>4</td>\n",
       "      <td>0.597445</td>\n",
       "      <td>2640.499644</td>\n",
       "    </tr>\n",
       "    <tr>\n",
       "      <th>4</th>\n",
       "      <td>mszepe3@lulu.com</td>\n",
       "      <td>Female</td>\n",
       "      <td>31.143.95.228</td>\n",
       "      <td>336.769989</td>\n",
       "      <td>85364</td>\n",
       "      <td>4</td>\n",
       "      <td>NaN</td>\n",
       "      <td>2872.580992</td>\n",
       "    </tr>\n",
       "    <tr>\n",
       "      <th>5</th>\n",
       "      <td>ncecely4@elegantthemes.com</td>\n",
       "      <td>Male</td>\n",
       "      <td>63.71.174.230</td>\n",
       "      <td>757.450012</td>\n",
       "      <td>85369</td>\n",
       "      <td>8</td>\n",
       "      <td>0.127835</td>\n",
       "      <td>2728.008966</td>\n",
       "    </tr>\n",
       "  </tbody>\n",
       "</table>\n",
       "</div>"
      ],
      "text/plain": [
       "                            email      gender       ip_address       sales  \\\n",
       "id                                                                           \n",
       "1   jhallsworth0@biblegateway.com  Non-Binary  223.109.240.148  606.159973   \n",
       "2                    wrobez1@t.co        Male    73.174.113.87  147.220001   \n",
       "3                chayles2@cdc.gov        Male  223.249.117.173  801.969971   \n",
       "4                mszepe3@lulu.com      Female    31.143.95.228  336.769989   \n",
       "5      ncecely4@elegantthemes.com        Male    63.71.174.230  757.450012   \n",
       "\n",
       "    zip_code  total_num_of_transactions  prob_of_rebuy  money_spent  \n",
       "id                                                                   \n",
       "1      85349                          7            NaN  3310.505486  \n",
       "2      85336                          9            NaN  2188.852818  \n",
       "3      85350                          4       0.597445  2640.499644  \n",
       "4      85364                          4            NaN  2872.580992  \n",
       "5      85369                          8       0.127835  2728.008966  "
      ]
     },
     "execution_count": 23,
     "metadata": {},
     "output_type": "execute_result"
    }
   ],
   "source": [
    "X.head()"
   ]
  },
  {
   "cell_type": "markdown",
   "metadata": {},
   "source": [
    "### Your Turn\n",
    "\n",
    "Now you need to\n",
    "1. write a function to strip the name portion of the email\n",
    "2. Apply it to the column\n"
   ]
  },
  {
   "cell_type": "code",
   "execution_count": 26,
   "metadata": {},
   "outputs": [
    {
     "name": "stdout",
     "output_type": "stream",
     "text": [
      "gmail.com\n"
     ]
    }
   ],
   "source": [
    "# define functions to apply to the dataframe\n",
    "def strip_emails(x):\n",
    "    # your code here\n",
    "    at = x.find('@')\n",
    "    return x[at+1:]\n",
    "\n",
    "test_email = 'thisismymail@gmail.com'\n",
    "print(strip_emails(test_email))"
   ]
  },
  {
   "cell_type": "code",
   "execution_count": 27,
   "metadata": {},
   "outputs": [
    {
     "data": {
      "text/html": [
       "<div>\n",
       "<style scoped>\n",
       "    .dataframe tbody tr th:only-of-type {\n",
       "        vertical-align: middle;\n",
       "    }\n",
       "\n",
       "    .dataframe tbody tr th {\n",
       "        vertical-align: top;\n",
       "    }\n",
       "\n",
       "    .dataframe thead th {\n",
       "        text-align: right;\n",
       "    }\n",
       "</style>\n",
       "<table border=\"1\" class=\"dataframe\">\n",
       "  <thead>\n",
       "    <tr style=\"text-align: right;\">\n",
       "      <th></th>\n",
       "      <th>email</th>\n",
       "      <th>gender</th>\n",
       "      <th>ip_address</th>\n",
       "      <th>sales</th>\n",
       "      <th>zip_code</th>\n",
       "      <th>total_num_of_transactions</th>\n",
       "      <th>prob_of_rebuy</th>\n",
       "      <th>money_spent</th>\n",
       "    </tr>\n",
       "    <tr>\n",
       "      <th>id</th>\n",
       "      <th></th>\n",
       "      <th></th>\n",
       "      <th></th>\n",
       "      <th></th>\n",
       "      <th></th>\n",
       "      <th></th>\n",
       "      <th></th>\n",
       "      <th></th>\n",
       "    </tr>\n",
       "  </thead>\n",
       "  <tbody>\n",
       "    <tr>\n",
       "      <th>1</th>\n",
       "      <td>biblegateway.com</td>\n",
       "      <td>Non-Binary</td>\n",
       "      <td>223.109.240.148</td>\n",
       "      <td>606.159973</td>\n",
       "      <td>85349</td>\n",
       "      <td>7</td>\n",
       "      <td>NaN</td>\n",
       "      <td>3310.505486</td>\n",
       "    </tr>\n",
       "    <tr>\n",
       "      <th>2</th>\n",
       "      <td>t.co</td>\n",
       "      <td>Male</td>\n",
       "      <td>73.174.113.87</td>\n",
       "      <td>147.220001</td>\n",
       "      <td>85336</td>\n",
       "      <td>9</td>\n",
       "      <td>NaN</td>\n",
       "      <td>2188.852818</td>\n",
       "    </tr>\n",
       "    <tr>\n",
       "      <th>3</th>\n",
       "      <td>cdc.gov</td>\n",
       "      <td>Male</td>\n",
       "      <td>223.249.117.173</td>\n",
       "      <td>801.969971</td>\n",
       "      <td>85350</td>\n",
       "      <td>4</td>\n",
       "      <td>0.597445</td>\n",
       "      <td>2640.499644</td>\n",
       "    </tr>\n",
       "    <tr>\n",
       "      <th>4</th>\n",
       "      <td>lulu.com</td>\n",
       "      <td>Female</td>\n",
       "      <td>31.143.95.228</td>\n",
       "      <td>336.769989</td>\n",
       "      <td>85364</td>\n",
       "      <td>4</td>\n",
       "      <td>NaN</td>\n",
       "      <td>2872.580992</td>\n",
       "    </tr>\n",
       "    <tr>\n",
       "      <th>5</th>\n",
       "      <td>elegantthemes.com</td>\n",
       "      <td>Male</td>\n",
       "      <td>63.71.174.230</td>\n",
       "      <td>757.450012</td>\n",
       "      <td>85369</td>\n",
       "      <td>8</td>\n",
       "      <td>0.127835</td>\n",
       "      <td>2728.008966</td>\n",
       "    </tr>\n",
       "  </tbody>\n",
       "</table>\n",
       "</div>"
      ],
      "text/plain": [
       "                email      gender       ip_address       sales  zip_code  \\\n",
       "id                                                                         \n",
       "1    biblegateway.com  Non-Binary  223.109.240.148  606.159973     85349   \n",
       "2                t.co        Male    73.174.113.87  147.220001     85336   \n",
       "3             cdc.gov        Male  223.249.117.173  801.969971     85350   \n",
       "4            lulu.com      Female    31.143.95.228  336.769989     85364   \n",
       "5   elegantthemes.com        Male    63.71.174.230  757.450012     85369   \n",
       "\n",
       "    total_num_of_transactions  prob_of_rebuy  money_spent  \n",
       "id                                                         \n",
       "1                           7            NaN  3310.505486  \n",
       "2                           9            NaN  2188.852818  \n",
       "3                           4       0.597445  2640.499644  \n",
       "4                           4            NaN  2872.580992  \n",
       "5                           8       0.127835  2728.008966  "
      ]
     },
     "execution_count": 27,
     "metadata": {},
     "output_type": "execute_result"
    }
   ],
   "source": [
    "# apply the function to the column and assign it back to the column (it does not work inplace)\n",
    "X['email'] = X['email'].apply(strip_emails)\n",
    "X.head()"
   ]
  },
  {
   "cell_type": "markdown",
   "metadata": {},
   "source": [
    "# Is the email column going to be worth it?\n",
    "Let's take a look at this email column and decide if it could help us or not.\n"
   ]
  },
  {
   "cell_type": "code",
   "execution_count": 32,
   "metadata": {},
   "outputs": [
    {
     "name": "stdout",
     "output_type": "stream",
     "text": [
      "email\n",
      "tiny.cc                10\n",
      "xrea.com               10\n",
      "furl.net               10\n",
      "qq.com                 10\n",
      "cbsnews.com            10\n",
      "                       ..\n",
      "fda.gov                 1\n",
      "ed.gov                  1\n",
      "devhub.com              1\n",
      "creativecommons.org     1\n",
      "ox.ac.uk                1\n",
      "Name: count, Length: 490, dtype: int64\n"
     ]
    }
   ],
   "source": [
    "# how many unique domains are there?\n",
    "counts = X.email.value_counts()\n",
    "print(counts)"
   ]
  },
  {
   "cell_type": "code",
   "execution_count": 33,
   "metadata": {},
   "outputs": [
    {
     "name": "stdout",
     "output_type": "stream",
     "text": [
      "[10 10 10 10 10 10  9  9  9  9  9  9  8  8  8  8  8  8  8  8  8  8  8  8\n",
      "  8  8  8  8  8  8  8  8  8  7  7  7  7  7  7  7  7  7  7  7  7  7  7  7\n",
      "  7  7  7  7  7  7  7  7  7  6  6  6  6  6  6  6  6  6  6  6  6  6  6  6\n",
      "  6  6  6  6  6  6  6  6  6  6  6  6  6  6  6  6  6  6  6  6  6  6  6  6\n",
      "  6  6  6  6  5  5  5  5  5  5  5  5  5  5  5  5  5  5  5  5  5  5  5  5\n",
      "  5  5  5  5  5  5  5  5  5  5  5  5  5  5  5  5  5  5  5  5  5  5  5  5\n",
      "  5  5  5  5  5  5  5  5  5  5  5  5  5  5  5  5  5  5  5  5  5  5  5  5\n",
      "  5  5  5  5  5  5  5  5  5  5  5  5  5  5  5  5  4  4  4  4  4  4  4  4\n",
      "  4  4  4  4  4  4  4  4  4  4  4  4  4  4  4  4  4  4  4  4  4  4  4  4\n",
      "  4  4  4  4  4  4  4  4  4  4  4  4  4  4  4  4  4  4  4  4  4  4  4  4\n",
      "  4  4  4  4  4  4  4  4  4  4  4  4  4  4  4  4  4  4  4  4  4  4  4  4\n",
      "  4  4  4  4  4  4  4  4  4  4  4  4  4  4  4  4  4  4  4  4  4  4  4  4\n",
      "  4  4  4  4  3  3  3  3  3  3  3  3  3  3  3  3  3  3  3  3  3  3  3  3\n",
      "  3  3  3  3  3  3  3  3  3  3  3  3  3  3  3  3  3  3  3  3  3  3  3  3\n",
      "  3  3  3  3  3  3  3  3  3  3  3  3  3  3  3  3  3  3  3  3  3  3  3  3\n",
      "  3  3  3  3  3  3  3  3  3  3  3  3  3  3  3  3  3  3  3  2  2  2  2  2\n",
      "  2  2  2  2  2  2  2  2  2  2  2  2  2  2  2  2  2  2  2  2  2  2  2  2\n",
      "  2  2  2  2  2  2  2  2  2  2  2  2  2  2  2  2  2  2  2  2  2  2  2  2\n",
      "  2  2  2  2  2  2  2  2  2  2  2  2  2  2  2  1  1  1  1  1  1  1  1  1\n",
      "  1  1  1  1  1  1  1  1  1  1  1  1  1  1  1  1  1  1  1  1  1  1  1  1\n",
      "  1  1  1  1  1  1  1  1  1  1]\n"
     ]
    }
   ],
   "source": [
    "print(counts.values)\n",
    "# this isn't helpful. "
   ]
  },
  {
   "cell_type": "markdown",
   "metadata": {},
   "source": [
    "Based on what you think, you can either keep the column or not. It never hurts to try using it and then drop it later, it's also not a big deal if you are sure it's going to be useless. You will learn to have intuition with these things over time."
   ]
  },
  {
   "cell_type": "code",
   "execution_count": 35,
   "metadata": {},
   "outputs": [
    {
     "data": {
      "text/plain": [
       "(490,)"
      ]
     },
     "execution_count": 35,
     "metadata": {},
     "output_type": "execute_result"
    }
   ],
   "source": [
    "X['email'].unique().shape"
   ]
  },
  {
   "cell_type": "code",
   "execution_count": 38,
   "metadata": {},
   "outputs": [
    {
     "name": "stderr",
     "output_type": "stream",
     "text": [
      "/var/folders/qg/sml08zl1549fdlq6fvd8l4p80000gn/T/ipykernel_19064/1661035474.py:1: UserWarning: \n",
      "\n",
      "`distplot` is a deprecated function and will be removed in seaborn v0.14.0.\n",
      "\n",
      "Please adapt your code to use either `displot` (a figure-level function with\n",
      "similar flexibility) or `histplot` (an axes-level function for histograms).\n",
      "\n",
      "For a guide to updating your code to use the new functions, please see\n",
      "https://gist.github.com/mwaskom/de44147ed2974457ad6372750bbe5751\n",
      "\n",
      "  sns.distplot(counts.values)\n"
     ]
    },
    {
     "data": {
      "text/plain": [
       "<Axes: ylabel='Density'>"
      ]
     },
     "execution_count": 38,
     "metadata": {},
     "output_type": "execute_result"
    },
    {
     "data": {
      "image/png": "[encoded data removed]",
      "text/plain": [
       "<Figure size 640x480 with 1 Axes>"
      ]
     },
     "metadata": {},
     "output_type": "display_data"
    }
   ],
   "source": [
    "sns.distplot(counts.values)"
   ]
  },
  {
   "cell_type": "code",
   "execution_count": 40,
   "metadata": {},
   "outputs": [],
   "source": [
    "emails = X['email'].copy()\n",
    "X.drop('email', axis=1, inplace=True)"
   ]
  },
  {
   "cell_type": "markdown",
   "metadata": {},
   "source": []
  },
  {
   "cell_type": "code",
   "execution_count": 41,
   "metadata": {},
   "outputs": [
    {
     "name": "stdout",
     "output_type": "stream",
     "text": [
      "<class 'pandas.core.frame.DataFrame'>\n",
      "Index: 2000 entries, 1 to 2000\n",
      "Data columns (total 7 columns):\n",
      " #   Column                     Non-Null Count  Dtype  \n",
      "---  ------                     --------------  -----  \n",
      " 0   gender                     2000 non-null   object \n",
      " 1   ip_address                 2000 non-null   object \n",
      " 2   sales                      2000 non-null   float32\n",
      " 3   zip_code                   2000 non-null   int64  \n",
      " 4   total_num_of_transactions  2000 non-null   int64  \n",
      " 5   prob_of_rebuy              1538 non-null   float64\n",
      " 6   money_spent                1690 non-null   float64\n",
      "dtypes: float32(1), float64(2), int64(2), object(2)\n",
      "memory usage: 117.2+ KB\n"
     ]
    }
   ],
   "source": [
    "X.info()"
   ]
  },
  {
   "cell_type": "markdown",
   "metadata": {},
   "source": []
  },
  {
   "cell_type": "markdown",
   "metadata": {},
   "source": [
    "## Splitting the IP Address\n",
    "We now need to split up the IP address, we will use Pandas's built in str method for this.\n",
    "Again, I'm not even sure this is a good idea, but it's certainly fine practice to learn how to spit up strings in pandas!"
   ]
  },
  {
   "cell_type": "code",
   "execution_count": 42,
   "metadata": {},
   "outputs": [
    {
     "data": {
      "text/html": [
       "<div>\n",
       "<style scoped>\n",
       "    .dataframe tbody tr th:only-of-type {\n",
       "        vertical-align: middle;\n",
       "    }\n",
       "\n",
       "    .dataframe tbody tr th {\n",
       "        vertical-align: top;\n",
       "    }\n",
       "\n",
       "    .dataframe thead th {\n",
       "        text-align: right;\n",
       "    }\n",
       "</style>\n",
       "<table border=\"1\" class=\"dataframe\">\n",
       "  <thead>\n",
       "    <tr style=\"text-align: right;\">\n",
       "      <th></th>\n",
       "      <th>gender</th>\n",
       "      <th>ip_address</th>\n",
       "      <th>sales</th>\n",
       "      <th>zip_code</th>\n",
       "      <th>total_num_of_transactions</th>\n",
       "      <th>prob_of_rebuy</th>\n",
       "      <th>money_spent</th>\n",
       "    </tr>\n",
       "    <tr>\n",
       "      <th>id</th>\n",
       "      <th></th>\n",
       "      <th></th>\n",
       "      <th></th>\n",
       "      <th></th>\n",
       "      <th></th>\n",
       "      <th></th>\n",
       "      <th></th>\n",
       "    </tr>\n",
       "  </thead>\n",
       "  <tbody>\n",
       "    <tr>\n",
       "      <th>1</th>\n",
       "      <td>Non-Binary</td>\n",
       "      <td>223.109.240.148</td>\n",
       "      <td>606.159973</td>\n",
       "      <td>85349</td>\n",
       "      <td>7</td>\n",
       "      <td>NaN</td>\n",
       "      <td>3310.505486</td>\n",
       "    </tr>\n",
       "    <tr>\n",
       "      <th>2</th>\n",
       "      <td>Male</td>\n",
       "      <td>73.174.113.87</td>\n",
       "      <td>147.220001</td>\n",
       "      <td>85336</td>\n",
       "      <td>9</td>\n",
       "      <td>NaN</td>\n",
       "      <td>2188.852818</td>\n",
       "    </tr>\n",
       "    <tr>\n",
       "      <th>3</th>\n",
       "      <td>Male</td>\n",
       "      <td>223.249.117.173</td>\n",
       "      <td>801.969971</td>\n",
       "      <td>85350</td>\n",
       "      <td>4</td>\n",
       "      <td>0.597445</td>\n",
       "      <td>2640.499644</td>\n",
       "    </tr>\n",
       "    <tr>\n",
       "      <th>4</th>\n",
       "      <td>Female</td>\n",
       "      <td>31.143.95.228</td>\n",
       "      <td>336.769989</td>\n",
       "      <td>85364</td>\n",
       "      <td>4</td>\n",
       "      <td>NaN</td>\n",
       "      <td>2872.580992</td>\n",
       "    </tr>\n",
       "    <tr>\n",
       "      <th>5</th>\n",
       "      <td>Male</td>\n",
       "      <td>63.71.174.230</td>\n",
       "      <td>757.450012</td>\n",
       "      <td>85369</td>\n",
       "      <td>8</td>\n",
       "      <td>0.127835</td>\n",
       "      <td>2728.008966</td>\n",
       "    </tr>\n",
       "  </tbody>\n",
       "</table>\n",
       "</div>"
      ],
      "text/plain": [
       "        gender       ip_address       sales  zip_code  \\\n",
       "id                                                      \n",
       "1   Non-Binary  223.109.240.148  606.159973     85349   \n",
       "2         Male    73.174.113.87  147.220001     85336   \n",
       "3         Male  223.249.117.173  801.969971     85350   \n",
       "4       Female    31.143.95.228  336.769989     85364   \n",
       "5         Male    63.71.174.230  757.450012     85369   \n",
       "\n",
       "    total_num_of_transactions  prob_of_rebuy  money_spent  \n",
       "id                                                         \n",
       "1                           7            NaN  3310.505486  \n",
       "2                           9            NaN  2188.852818  \n",
       "3                           4       0.597445  2640.499644  \n",
       "4                           4            NaN  2872.580992  \n",
       "5                           8       0.127835  2728.008966  "
      ]
     },
     "execution_count": 42,
     "metadata": {},
     "output_type": "execute_result"
    }
   ],
   "source": [
    "X.head()"
   ]
  },
  {
   "cell_type": "code",
   "execution_count": 47,
   "metadata": {},
   "outputs": [
    {
     "data": {
      "text/html": [
       "<div>\n",
       "<style scoped>\n",
       "    .dataframe tbody tr th:only-of-type {\n",
       "        vertical-align: middle;\n",
       "    }\n",
       "\n",
       "    .dataframe tbody tr th {\n",
       "        vertical-align: top;\n",
       "    }\n",
       "\n",
       "    .dataframe thead th {\n",
       "        text-align: right;\n",
       "    }\n",
       "</style>\n",
       "<table border=\"1\" class=\"dataframe\">\n",
       "  <thead>\n",
       "    <tr style=\"text-align: right;\">\n",
       "      <th></th>\n",
       "      <th>0</th>\n",
       "      <th>1</th>\n",
       "      <th>2</th>\n",
       "      <th>3</th>\n",
       "    </tr>\n",
       "    <tr>\n",
       "      <th>id</th>\n",
       "      <th></th>\n",
       "      <th></th>\n",
       "      <th></th>\n",
       "      <th></th>\n",
       "    </tr>\n",
       "  </thead>\n",
       "  <tbody>\n",
       "    <tr>\n",
       "      <th>1</th>\n",
       "      <td>223</td>\n",
       "      <td>109</td>\n",
       "      <td>240</td>\n",
       "      <td>148</td>\n",
       "    </tr>\n",
       "    <tr>\n",
       "      <th>2</th>\n",
       "      <td>73</td>\n",
       "      <td>174</td>\n",
       "      <td>113</td>\n",
       "      <td>87</td>\n",
       "    </tr>\n",
       "    <tr>\n",
       "      <th>3</th>\n",
       "      <td>223</td>\n",
       "      <td>249</td>\n",
       "      <td>117</td>\n",
       "      <td>173</td>\n",
       "    </tr>\n",
       "    <tr>\n",
       "      <th>4</th>\n",
       "      <td>31</td>\n",
       "      <td>143</td>\n",
       "      <td>95</td>\n",
       "      <td>228</td>\n",
       "    </tr>\n",
       "    <tr>\n",
       "      <th>5</th>\n",
       "      <td>63</td>\n",
       "      <td>71</td>\n",
       "      <td>174</td>\n",
       "      <td>230</td>\n",
       "    </tr>\n",
       "    <tr>\n",
       "      <th>...</th>\n",
       "      <td>...</td>\n",
       "      <td>...</td>\n",
       "      <td>...</td>\n",
       "      <td>...</td>\n",
       "    </tr>\n",
       "    <tr>\n",
       "      <th>1996</th>\n",
       "      <td>99</td>\n",
       "      <td>212</td>\n",
       "      <td>77</td>\n",
       "      <td>78</td>\n",
       "    </tr>\n",
       "    <tr>\n",
       "      <th>1997</th>\n",
       "      <td>43</td>\n",
       "      <td>253</td>\n",
       "      <td>114</td>\n",
       "      <td>105</td>\n",
       "    </tr>\n",
       "    <tr>\n",
       "      <th>1998</th>\n",
       "      <td>70</td>\n",
       "      <td>249</td>\n",
       "      <td>185</td>\n",
       "      <td>148</td>\n",
       "    </tr>\n",
       "    <tr>\n",
       "      <th>1999</th>\n",
       "      <td>202</td>\n",
       "      <td>103</td>\n",
       "      <td>209</td>\n",
       "      <td>127</td>\n",
       "    </tr>\n",
       "    <tr>\n",
       "      <th>2000</th>\n",
       "      <td>241</td>\n",
       "      <td>21</td>\n",
       "      <td>156</td>\n",
       "      <td>112</td>\n",
       "    </tr>\n",
       "  </tbody>\n",
       "</table>\n",
       "<p>2000 rows × 4 columns</p>\n",
       "</div>"
      ],
      "text/plain": [
       "        0    1    2    3\n",
       "id                      \n",
       "1     223  109  240  148\n",
       "2      73  174  113   87\n",
       "3     223  249  117  173\n",
       "4      31  143   95  228\n",
       "5      63   71  174  230\n",
       "...   ...  ...  ...  ...\n",
       "1996   99  212   77   78\n",
       "1997   43  253  114  105\n",
       "1998   70  249  185  148\n",
       "1999  202  103  209  127\n",
       "2000  241   21  156  112\n",
       "\n",
       "[2000 rows x 4 columns]"
      ]
     },
     "execution_count": 47,
     "metadata": {},
     "output_type": "execute_result"
    }
   ],
   "source": [
    "# breaking the code below down\n",
    "ips = X['ip_address']\n",
    "ips.str.split()\n",
    "X['ip_address'].str.split(pat=\".\", expand=True)"
   ]
  },
  {
   "cell_type": "code",
   "execution_count": 49,
   "metadata": {},
   "outputs": [],
   "source": [
    "# We are going to use pandas str method here, pay close attention!\n",
    "\n",
    "X[['first_ip','second_ip','third_ip','fourth_ip']] = X.ip_address.str.split(pat=\".\", expand=True)"
   ]
  },
  {
   "cell_type": "code",
   "execution_count": 50,
   "metadata": {},
   "outputs": [],
   "source": [
    "a = X['ip_address'].str.split(pat=\".\", expand=True)"
   ]
  },
  {
   "cell_type": "code",
   "execution_count": 51,
   "metadata": {},
   "outputs": [
    {
     "data": {
      "text/html": [
       "<div>\n",
       "<style scoped>\n",
       "    .dataframe tbody tr th:only-of-type {\n",
       "        vertical-align: middle;\n",
       "    }\n",
       "\n",
       "    .dataframe tbody tr th {\n",
       "        vertical-align: top;\n",
       "    }\n",
       "\n",
       "    .dataframe thead th {\n",
       "        text-align: right;\n",
       "    }\n",
       "</style>\n",
       "<table border=\"1\" class=\"dataframe\">\n",
       "  <thead>\n",
       "    <tr style=\"text-align: right;\">\n",
       "      <th></th>\n",
       "      <th>0</th>\n",
       "      <th>1</th>\n",
       "      <th>2</th>\n",
       "      <th>3</th>\n",
       "    </tr>\n",
       "    <tr>\n",
       "      <th>id</th>\n",
       "      <th></th>\n",
       "      <th></th>\n",
       "      <th></th>\n",
       "      <th></th>\n",
       "    </tr>\n",
       "  </thead>\n",
       "  <tbody>\n",
       "    <tr>\n",
       "      <th>1</th>\n",
       "      <td>223</td>\n",
       "      <td>109</td>\n",
       "      <td>240</td>\n",
       "      <td>148</td>\n",
       "    </tr>\n",
       "    <tr>\n",
       "      <th>2</th>\n",
       "      <td>73</td>\n",
       "      <td>174</td>\n",
       "      <td>113</td>\n",
       "      <td>87</td>\n",
       "    </tr>\n",
       "    <tr>\n",
       "      <th>3</th>\n",
       "      <td>223</td>\n",
       "      <td>249</td>\n",
       "      <td>117</td>\n",
       "      <td>173</td>\n",
       "    </tr>\n",
       "    <tr>\n",
       "      <th>4</th>\n",
       "      <td>31</td>\n",
       "      <td>143</td>\n",
       "      <td>95</td>\n",
       "      <td>228</td>\n",
       "    </tr>\n",
       "    <tr>\n",
       "      <th>5</th>\n",
       "      <td>63</td>\n",
       "      <td>71</td>\n",
       "      <td>174</td>\n",
       "      <td>230</td>\n",
       "    </tr>\n",
       "    <tr>\n",
       "      <th>...</th>\n",
       "      <td>...</td>\n",
       "      <td>...</td>\n",
       "      <td>...</td>\n",
       "      <td>...</td>\n",
       "    </tr>\n",
       "    <tr>\n",
       "      <th>1996</th>\n",
       "      <td>99</td>\n",
       "      <td>212</td>\n",
       "      <td>77</td>\n",
       "      <td>78</td>\n",
       "    </tr>\n",
       "    <tr>\n",
       "      <th>1997</th>\n",
       "      <td>43</td>\n",
       "      <td>253</td>\n",
       "      <td>114</td>\n",
       "      <td>105</td>\n",
       "    </tr>\n",
       "    <tr>\n",
       "      <th>1998</th>\n",
       "      <td>70</td>\n",
       "      <td>249</td>\n",
       "      <td>185</td>\n",
       "      <td>148</td>\n",
       "    </tr>\n",
       "    <tr>\n",
       "      <th>1999</th>\n",
       "      <td>202</td>\n",
       "      <td>103</td>\n",
       "      <td>209</td>\n",
       "      <td>127</td>\n",
       "    </tr>\n",
       "    <tr>\n",
       "      <th>2000</th>\n",
       "      <td>241</td>\n",
       "      <td>21</td>\n",
       "      <td>156</td>\n",
       "      <td>112</td>\n",
       "    </tr>\n",
       "  </tbody>\n",
       "</table>\n",
       "<p>2000 rows × 4 columns</p>\n",
       "</div>"
      ],
      "text/plain": [
       "        0    1    2    3\n",
       "id                      \n",
       "1     223  109  240  148\n",
       "2      73  174  113   87\n",
       "3     223  249  117  173\n",
       "4      31  143   95  228\n",
       "5      63   71  174  230\n",
       "...   ...  ...  ...  ...\n",
       "1996   99  212   77   78\n",
       "1997   43  253  114  105\n",
       "1998   70  249  185  148\n",
       "1999  202  103  209  127\n",
       "2000  241   21  156  112\n",
       "\n",
       "[2000 rows x 4 columns]"
      ]
     },
     "execution_count": 51,
     "metadata": {},
     "output_type": "execute_result"
    }
   ],
   "source": [
    "a"
   ]
  },
  {
   "cell_type": "code",
   "execution_count": 52,
   "metadata": {},
   "outputs": [
    {
     "name": "stdout",
     "output_type": "stream",
     "text": [
      "<class 'pandas.core.frame.DataFrame'>\n",
      "Index: 2000 entries, 1 to 2000\n",
      "Data columns (total 11 columns):\n",
      " #   Column                     Non-Null Count  Dtype  \n",
      "---  ------                     --------------  -----  \n",
      " 0   gender                     2000 non-null   object \n",
      " 1   ip_address                 2000 non-null   object \n",
      " 2   sales                      2000 non-null   float32\n",
      " 3   zip_code                   2000 non-null   int64  \n",
      " 4   total_num_of_transactions  2000 non-null   int64  \n",
      " 5   prob_of_rebuy              1538 non-null   float64\n",
      " 6   money_spent                1690 non-null   float64\n",
      " 7   first_ip                   2000 non-null   object \n",
      " 8   second_ip                  2000 non-null   object \n",
      " 9   third_ip                   2000 non-null   object \n",
      " 10  fourth_ip                  2000 non-null   object \n",
      "dtypes: float32(1), float64(2), int64(2), object(6)\n",
      "memory usage: 179.7+ KB\n"
     ]
    }
   ],
   "source": [
    "X.info()"
   ]
  },
  {
   "cell_type": "code",
   "execution_count": 53,
   "metadata": {},
   "outputs": [],
   "source": [
    "# now we cast the columns as floats, because we always need numbers for our models!\n",
    "X[['first_ip','second_ip','third_ip','fourth_ip']] = X[['first_ip','second_ip','third_ip','fourth_ip']].astype('float32')\n",
    "# we also drop the original column\n",
    "X.drop('ip_address', axis=1, inplace=True)"
   ]
  },
  {
   "cell_type": "code",
   "execution_count": 54,
   "metadata": {},
   "outputs": [
    {
     "name": "stdout",
     "output_type": "stream",
     "text": [
      "<class 'pandas.core.frame.DataFrame'>\n",
      "Index: 2000 entries, 1 to 2000\n",
      "Data columns (total 10 columns):\n",
      " #   Column                     Non-Null Count  Dtype  \n",
      "---  ------                     --------------  -----  \n",
      " 0   gender                     2000 non-null   object \n",
      " 1   sales                      2000 non-null   float32\n",
      " 2   zip_code                   2000 non-null   int64  \n",
      " 3   total_num_of_transactions  2000 non-null   int64  \n",
      " 4   prob_of_rebuy              1538 non-null   float64\n",
      " 5   money_spent                1690 non-null   float64\n",
      " 6   first_ip                   2000 non-null   float32\n",
      " 7   second_ip                  2000 non-null   float32\n",
      " 8   third_ip                   2000 non-null   float32\n",
      " 9   fourth_ip                  2000 non-null   float32\n",
      "dtypes: float32(5), float64(2), int64(2), object(1)\n",
      "memory usage: 132.8+ KB\n"
     ]
    }
   ],
   "source": [
    "X.info()"
   ]
  },
  {
   "cell_type": "markdown",
   "metadata": {},
   "source": [
    "# One Hot Encoding\n",
    "\n",
    "Ok we are almost done, we just have to convert the gender column into something integer that we can use. We will use one-hot-encoding since gender is a categorical variable.\n",
    "\n",
    "Pandas has a `get_dummies()` function that will be very useful.\n",
    "I'm going to let you look it up and learn how to use it.\n"
   ]
  },
  {
   "cell_type": "code",
   "execution_count": 55,
   "metadata": {},
   "outputs": [
    {
     "data": {
      "text/plain": [
       "gender\n",
       "Male          775\n",
       "Female        725\n",
       "Non-Binary    500\n",
       "Name: count, dtype: int64"
      ]
     },
     "execution_count": 55,
     "metadata": {},
     "output_type": "execute_result"
    }
   ],
   "source": [
    "# check the gender distribution, just because\n",
    "X.gender.value_counts()"
   ]
  },
  {
   "cell_type": "code",
   "execution_count": 57,
   "metadata": {},
   "outputs": [
    {
     "data": {
      "text/html": [
       "<div>\n",
       "<style scoped>\n",
       "    .dataframe tbody tr th:only-of-type {\n",
       "        vertical-align: middle;\n",
       "    }\n",
       "\n",
       "    .dataframe tbody tr th {\n",
       "        vertical-align: top;\n",
       "    }\n",
       "\n",
       "    .dataframe thead th {\n",
       "        text-align: right;\n",
       "    }\n",
       "</style>\n",
       "<table border=\"1\" class=\"dataframe\">\n",
       "  <thead>\n",
       "    <tr style=\"text-align: right;\">\n",
       "      <th></th>\n",
       "      <th>sales</th>\n",
       "      <th>zip_code</th>\n",
       "      <th>total_num_of_transactions</th>\n",
       "      <th>prob_of_rebuy</th>\n",
       "      <th>money_spent</th>\n",
       "      <th>first_ip</th>\n",
       "      <th>second_ip</th>\n",
       "      <th>third_ip</th>\n",
       "      <th>fourth_ip</th>\n",
       "      <th>Female</th>\n",
       "      <th>Male</th>\n",
       "      <th>Non-Binary</th>\n",
       "      <th>Female</th>\n",
       "      <th>Male</th>\n",
       "      <th>Non-Binary</th>\n",
       "    </tr>\n",
       "    <tr>\n",
       "      <th>id</th>\n",
       "      <th></th>\n",
       "      <th></th>\n",
       "      <th></th>\n",
       "      <th></th>\n",
       "      <th></th>\n",
       "      <th></th>\n",
       "      <th></th>\n",
       "      <th></th>\n",
       "      <th></th>\n",
       "      <th></th>\n",
       "      <th></th>\n",
       "      <th></th>\n",
       "      <th></th>\n",
       "      <th></th>\n",
       "      <th></th>\n",
       "    </tr>\n",
       "  </thead>\n",
       "  <tbody>\n",
       "    <tr>\n",
       "      <th>1</th>\n",
       "      <td>606.159973</td>\n",
       "      <td>85349</td>\n",
       "      <td>7</td>\n",
       "      <td>NaN</td>\n",
       "      <td>3310.505486</td>\n",
       "      <td>223.0</td>\n",
       "      <td>109.0</td>\n",
       "      <td>240.0</td>\n",
       "      <td>148.0</td>\n",
       "      <td>False</td>\n",
       "      <td>False</td>\n",
       "      <td>True</td>\n",
       "      <td>False</td>\n",
       "      <td>False</td>\n",
       "      <td>True</td>\n",
       "    </tr>\n",
       "    <tr>\n",
       "      <th>2</th>\n",
       "      <td>147.220001</td>\n",
       "      <td>85336</td>\n",
       "      <td>9</td>\n",
       "      <td>NaN</td>\n",
       "      <td>2188.852818</td>\n",
       "      <td>73.0</td>\n",
       "      <td>174.0</td>\n",
       "      <td>113.0</td>\n",
       "      <td>87.0</td>\n",
       "      <td>False</td>\n",
       "      <td>True</td>\n",
       "      <td>False</td>\n",
       "      <td>False</td>\n",
       "      <td>True</td>\n",
       "      <td>False</td>\n",
       "    </tr>\n",
       "    <tr>\n",
       "      <th>3</th>\n",
       "      <td>801.969971</td>\n",
       "      <td>85350</td>\n",
       "      <td>4</td>\n",
       "      <td>0.597445</td>\n",
       "      <td>2640.499644</td>\n",
       "      <td>223.0</td>\n",
       "      <td>249.0</td>\n",
       "      <td>117.0</td>\n",
       "      <td>173.0</td>\n",
       "      <td>False</td>\n",
       "      <td>True</td>\n",
       "      <td>False</td>\n",
       "      <td>False</td>\n",
       "      <td>True</td>\n",
       "      <td>False</td>\n",
       "    </tr>\n",
       "    <tr>\n",
       "      <th>4</th>\n",
       "      <td>336.769989</td>\n",
       "      <td>85364</td>\n",
       "      <td>4</td>\n",
       "      <td>NaN</td>\n",
       "      <td>2872.580992</td>\n",
       "      <td>31.0</td>\n",
       "      <td>143.0</td>\n",
       "      <td>95.0</td>\n",
       "      <td>228.0</td>\n",
       "      <td>True</td>\n",
       "      <td>False</td>\n",
       "      <td>False</td>\n",
       "      <td>True</td>\n",
       "      <td>False</td>\n",
       "      <td>False</td>\n",
       "    </tr>\n",
       "    <tr>\n",
       "      <th>5</th>\n",
       "      <td>757.450012</td>\n",
       "      <td>85369</td>\n",
       "      <td>8</td>\n",
       "      <td>0.127835</td>\n",
       "      <td>2728.008966</td>\n",
       "      <td>63.0</td>\n",
       "      <td>71.0</td>\n",
       "      <td>174.0</td>\n",
       "      <td>230.0</td>\n",
       "      <td>False</td>\n",
       "      <td>True</td>\n",
       "      <td>False</td>\n",
       "      <td>False</td>\n",
       "      <td>True</td>\n",
       "      <td>False</td>\n",
       "    </tr>\n",
       "  </tbody>\n",
       "</table>\n",
       "</div>"
      ],
      "text/plain": [
       "         sales  zip_code  total_num_of_transactions  prob_of_rebuy  \\\n",
       "id                                                                   \n",
       "1   606.159973     85349                          7            NaN   \n",
       "2   147.220001     85336                          9            NaN   \n",
       "3   801.969971     85350                          4       0.597445   \n",
       "4   336.769989     85364                          4            NaN   \n",
       "5   757.450012     85369                          8       0.127835   \n",
       "\n",
       "    money_spent  first_ip  second_ip  third_ip  fourth_ip  Female   Male  \\\n",
       "id                                                                         \n",
       "1   3310.505486     223.0      109.0     240.0      148.0   False  False   \n",
       "2   2188.852818      73.0      174.0     113.0       87.0   False   True   \n",
       "3   2640.499644     223.0      249.0     117.0      173.0   False   True   \n",
       "4   2872.580992      31.0      143.0      95.0      228.0    True  False   \n",
       "5   2728.008966      63.0       71.0     174.0      230.0   False   True   \n",
       "\n",
       "    Non-Binary  Female   Male  Non-Binary  \n",
       "id                                         \n",
       "1         True   False  False        True  \n",
       "2        False   False   True       False  \n",
       "3        False   False   True       False  \n",
       "4        False    True  False       False  \n",
       "5        False   False   True       False  "
      ]
     },
     "execution_count": 57,
     "metadata": {},
     "output_type": "execute_result"
    }
   ],
   "source": [
    "dumbdumbs = pd.get_dummies(X['gender'])\n",
    "X = pd.concat((X, dumbdumbs), axis=1)\n",
    "X.drop(['gender'], axis=1, inplace=True)\n",
    "X.head()\n"
   ]
  },
  {
   "cell_type": "code",
   "execution_count": 58,
   "metadata": {},
   "outputs": [
    {
     "name": "stdout",
     "output_type": "stream",
     "text": [
      "<class 'pandas.core.frame.DataFrame'>\n",
      "Index: 2000 entries, 1 to 2000\n",
      "Data columns (total 15 columns):\n",
      " #   Column                     Non-Null Count  Dtype  \n",
      "---  ------                     --------------  -----  \n",
      " 0   sales                      2000 non-null   float32\n",
      " 1   zip_code                   2000 non-null   int64  \n",
      " 2   total_num_of_transactions  2000 non-null   int64  \n",
      " 3   prob_of_rebuy              1538 non-null   float64\n",
      " 4   money_spent                1690 non-null   float64\n",
      " 5   first_ip                   2000 non-null   float32\n",
      " 6   second_ip                  2000 non-null   float32\n",
      " 7   third_ip                   2000 non-null   float32\n",
      " 8   fourth_ip                  2000 non-null   float32\n",
      " 9   Female                     2000 non-null   bool   \n",
      " 10  Male                       2000 non-null   bool   \n",
      " 11  Non-Binary                 2000 non-null   bool   \n",
      " 12  Female                     2000 non-null   bool   \n",
      " 13  Male                       2000 non-null   bool   \n",
      " 14  Non-Binary                 2000 non-null   bool   \n",
      "dtypes: bool(6), float32(5), float64(2), int64(2)\n",
      "memory usage: 128.9 KB\n"
     ]
    }
   ],
   "source": [
    "X.info()"
   ]
  },
  {
   "cell_type": "markdown",
   "metadata": {},
   "source": [
    "# Data Preprocessing Stage 2\n",
    "\n",
    "Ok, we are done with stage 1 - we have converted everything into numeric features and dropped all the unneccessary things. Please double check that! Make sure all features are numeric (a check with .info() should do the trick).\n",
    "\n",
    "However we do have missing values. Which two columns have missing values?\n",
    "How many values are missing?\n",
    "What should we do about those missing values?\n",
    "\n",
    "You can either impute (fill in) the missing values, or drop the rows which contain them. The choice is up to you!\n",
    "Either way, you should practice both methods. This way you can practice coding both solutions.\n",
    "\n",
    "Note:\n",
    "The `DataFrame.fillna()` method essentially assumes that you are using timeseries data. We are not, so I wouldn't use this. In order to impute simple values, you can use numpy easily, but... I'm lazy and would probably use the scikit-learn implementation.\n",
    "\n",
    "https://scikit-learn.org/stable/modules/impute.html"
   ]
  },
  {
   "cell_type": "code",
   "execution_count": 60,
   "metadata": {},
   "outputs": [],
   "source": [
    "from sklearn.impute import SimpleImputer\n",
    "imp = SimpleImputer(missing_values=np.nan, strategy='mean')\n",
    "# nan is what I am looking for\n",
    "# once I find it, I want to replace it with the mean of the column"
   ]
  },
  {
   "cell_type": "markdown",
   "metadata": {},
   "source": []
  },
  {
   "cell_type": "code",
   "execution_count": 61,
   "metadata": {},
   "outputs": [],
   "source": [
    "X_ = imp.fit_transform(X)"
   ]
  },
  {
   "cell_type": "code",
   "execution_count": 62,
   "metadata": {},
   "outputs": [],
   "source": [
    "X = pd.DataFrame(X_, columns = X.columns)"
   ]
  },
  {
   "cell_type": "code",
   "execution_count": 63,
   "metadata": {},
   "outputs": [
    {
     "name": "stdout",
     "output_type": "stream",
     "text": [
      "<class 'pandas.core.frame.DataFrame'>\n",
      "RangeIndex: 2000 entries, 0 to 1999\n",
      "Data columns (total 15 columns):\n",
      " #   Column                     Non-Null Count  Dtype  \n",
      "---  ------                     --------------  -----  \n",
      " 0   sales                      2000 non-null   float64\n",
      " 1   zip_code                   2000 non-null   float64\n",
      " 2   total_num_of_transactions  2000 non-null   float64\n",
      " 3   prob_of_rebuy              2000 non-null   float64\n",
      " 4   money_spent                2000 non-null   float64\n",
      " 5   first_ip                   2000 non-null   float64\n",
      " 6   second_ip                  2000 non-null   float64\n",
      " 7   third_ip                   2000 non-null   float64\n",
      " 8   fourth_ip                  2000 non-null   float64\n",
      " 9   Female                     2000 non-null   float64\n",
      " 10  Male                       2000 non-null   float64\n",
      " 11  Non-Binary                 2000 non-null   float64\n",
      " 12  Female                     2000 non-null   float64\n",
      " 13  Male                       2000 non-null   float64\n",
      " 14  Non-Binary                 2000 non-null   float64\n",
      "dtypes: float64(15)\n",
      "memory usage: 234.5 KB\n"
     ]
    }
   ],
   "source": [
    "X.info()"
   ]
  },
  {
   "cell_type": "code",
   "execution_count": 64,
   "metadata": {},
   "outputs": [
    {
     "data": {
      "text/html": [
       "<div>\n",
       "<style scoped>\n",
       "    .dataframe tbody tr th:only-of-type {\n",
       "        vertical-align: middle;\n",
       "    }\n",
       "\n",
       "    .dataframe tbody tr th {\n",
       "        vertical-align: top;\n",
       "    }\n",
       "\n",
       "    .dataframe thead th {\n",
       "        text-align: right;\n",
       "    }\n",
       "</style>\n",
       "<table border=\"1\" class=\"dataframe\">\n",
       "  <thead>\n",
       "    <tr style=\"text-align: right;\">\n",
       "      <th></th>\n",
       "      <th>sales</th>\n",
       "      <th>zip_code</th>\n",
       "      <th>total_num_of_transactions</th>\n",
       "      <th>prob_of_rebuy</th>\n",
       "      <th>money_spent</th>\n",
       "      <th>first_ip</th>\n",
       "      <th>second_ip</th>\n",
       "      <th>third_ip</th>\n",
       "      <th>fourth_ip</th>\n",
       "      <th>Female</th>\n",
       "      <th>Male</th>\n",
       "      <th>Non-Binary</th>\n",
       "      <th>Female</th>\n",
       "      <th>Male</th>\n",
       "      <th>Non-Binary</th>\n",
       "    </tr>\n",
       "  </thead>\n",
       "  <tbody>\n",
       "    <tr>\n",
       "      <th>0</th>\n",
       "      <td>606.159973</td>\n",
       "      <td>85349.0</td>\n",
       "      <td>7.0</td>\n",
       "      <td>0.510104</td>\n",
       "      <td>3310.505486</td>\n",
       "      <td>223.0</td>\n",
       "      <td>109.0</td>\n",
       "      <td>240.0</td>\n",
       "      <td>148.0</td>\n",
       "      <td>0.0</td>\n",
       "      <td>0.0</td>\n",
       "      <td>1.0</td>\n",
       "      <td>0.0</td>\n",
       "      <td>0.0</td>\n",
       "      <td>1.0</td>\n",
       "    </tr>\n",
       "    <tr>\n",
       "      <th>1</th>\n",
       "      <td>147.220001</td>\n",
       "      <td>85336.0</td>\n",
       "      <td>9.0</td>\n",
       "      <td>0.510104</td>\n",
       "      <td>2188.852818</td>\n",
       "      <td>73.0</td>\n",
       "      <td>174.0</td>\n",
       "      <td>113.0</td>\n",
       "      <td>87.0</td>\n",
       "      <td>0.0</td>\n",
       "      <td>1.0</td>\n",
       "      <td>0.0</td>\n",
       "      <td>0.0</td>\n",
       "      <td>1.0</td>\n",
       "      <td>0.0</td>\n",
       "    </tr>\n",
       "    <tr>\n",
       "      <th>2</th>\n",
       "      <td>801.969971</td>\n",
       "      <td>85350.0</td>\n",
       "      <td>4.0</td>\n",
       "      <td>0.597445</td>\n",
       "      <td>2640.499644</td>\n",
       "      <td>223.0</td>\n",
       "      <td>249.0</td>\n",
       "      <td>117.0</td>\n",
       "      <td>173.0</td>\n",
       "      <td>0.0</td>\n",
       "      <td>1.0</td>\n",
       "      <td>0.0</td>\n",
       "      <td>0.0</td>\n",
       "      <td>1.0</td>\n",
       "      <td>0.0</td>\n",
       "    </tr>\n",
       "    <tr>\n",
       "      <th>3</th>\n",
       "      <td>336.769989</td>\n",
       "      <td>85364.0</td>\n",
       "      <td>4.0</td>\n",
       "      <td>0.510104</td>\n",
       "      <td>2872.580992</td>\n",
       "      <td>31.0</td>\n",
       "      <td>143.0</td>\n",
       "      <td>95.0</td>\n",
       "      <td>228.0</td>\n",
       "      <td>1.0</td>\n",
       "      <td>0.0</td>\n",
       "      <td>0.0</td>\n",
       "      <td>1.0</td>\n",
       "      <td>0.0</td>\n",
       "      <td>0.0</td>\n",
       "    </tr>\n",
       "    <tr>\n",
       "      <th>4</th>\n",
       "      <td>757.450012</td>\n",
       "      <td>85369.0</td>\n",
       "      <td>8.0</td>\n",
       "      <td>0.127835</td>\n",
       "      <td>2728.008966</td>\n",
       "      <td>63.0</td>\n",
       "      <td>71.0</td>\n",
       "      <td>174.0</td>\n",
       "      <td>230.0</td>\n",
       "      <td>0.0</td>\n",
       "      <td>1.0</td>\n",
       "      <td>0.0</td>\n",
       "      <td>0.0</td>\n",
       "      <td>1.0</td>\n",
       "      <td>0.0</td>\n",
       "    </tr>\n",
       "  </tbody>\n",
       "</table>\n",
       "</div>"
      ],
      "text/plain": [
       "        sales  zip_code  total_num_of_transactions  prob_of_rebuy  \\\n",
       "0  606.159973   85349.0                        7.0       0.510104   \n",
       "1  147.220001   85336.0                        9.0       0.510104   \n",
       "2  801.969971   85350.0                        4.0       0.597445   \n",
       "3  336.769989   85364.0                        4.0       0.510104   \n",
       "4  757.450012   85369.0                        8.0       0.127835   \n",
       "\n",
       "   money_spent  first_ip  second_ip  third_ip  fourth_ip  Female  Male  \\\n",
       "0  3310.505486     223.0      109.0     240.0      148.0     0.0   0.0   \n",
       "1  2188.852818      73.0      174.0     113.0       87.0     0.0   1.0   \n",
       "2  2640.499644     223.0      249.0     117.0      173.0     0.0   1.0   \n",
       "3  2872.580992      31.0      143.0      95.0      228.0     1.0   0.0   \n",
       "4  2728.008966      63.0       71.0     174.0      230.0     0.0   1.0   \n",
       "\n",
       "   Non-Binary  Female  Male  Non-Binary  \n",
       "0         1.0     0.0   0.0         1.0  \n",
       "1         0.0     0.0   1.0         0.0  \n",
       "2         0.0     0.0   1.0         0.0  \n",
       "3         0.0     1.0   0.0         0.0  \n",
       "4         0.0     0.0   1.0         0.0  "
      ]
     },
     "execution_count": 64,
     "metadata": {},
     "output_type": "execute_result"
    }
   ],
   "source": [
    "X.head()"
   ]
  },
  {
   "cell_type": "code",
   "execution_count": null,
   "metadata": {},
   "outputs": [],
   "source": []
  }
 ],
 "metadata": {
  "kernelspec": {
   "display_name": "Python 3 (ipykernel)",
   "language": "python",
   "name": "python3"
  },
  "language_info": {
   "codemirror_mode": {
    "name": "ipython",
    "version": 3
   },
   "file_extension": ".py",
   "mimetype": "text/x-python",
   "name": "python",
   "nbconvert_exporter": "python",
   "pygments_lexer": "ipython3",
   "version": "3.10.13"
  }
 },
 "nbformat": 4,
 "nbformat_minor": 4
}
