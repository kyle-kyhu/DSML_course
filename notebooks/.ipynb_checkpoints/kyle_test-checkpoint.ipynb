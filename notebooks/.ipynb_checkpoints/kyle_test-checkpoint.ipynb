{
 "cells": [
  {
   "cell_type": "code",
   "execution_count": null,
   "metadata": {},
   "outputs": [],
   "source": [
    "import matplotlib.pyplot as plt\n",
    "import seaborn as sns\n",
    "\n",
    "tips = sns.load_dataset(\"tips\")\n",
    "\n",
    "x = tips.groupby(['day'])['total_bill'].mean().index\n",
    "y = tips.groupby(['day'])['total_bill'].mean()\n",
    "\n",
    "fig, ax = plt.subplots()\n",
    "\n",
    "ax.plot(x, y, marker='o')\n",
    "\n",
    "ax.set_xlabel('Day of the Week')\n",
    "ax.set_ylabel('Average Total Bill ($)')\n",
    "ax.set_title('Tips Dataset')\n",
    "\n",
    "plt.show()"
   ]
  }
 ],
 "metadata": {
  "language_info": {
   "name": "python"
  }
 },
 "nbformat": 4,
 "nbformat_minor": 5
}
