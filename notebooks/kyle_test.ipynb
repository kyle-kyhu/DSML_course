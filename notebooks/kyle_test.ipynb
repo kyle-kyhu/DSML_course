{
 "cells": [
  {
   "cell_type": "code",
   "execution_count": null,
   "id": "e2c47fb8",
   "metadata": {},
   "outputs": [],
   "source": [
    "import matplotlib.pyplot as plt\n",
    "import seaborn as sns\n",
    "\n",
    "tips = sns.load_dataset(\"tips\")\n",
    "\n",
    "x = tips.groupby(['day'])['total_bill'].mean().index\n",
    "y = tips.groupby(['day'])['total_bill'].mean()\n",
    "\n",
    "fig, ax = plt.subplots()\n",
    "\n",
    "ax.plot(x, y, marker='o')\n",
    "\n",
    "ax.set_xlabel('Day of the Week')\n",
    "ax.set_ylabel('Average Total Bill ($)')\n",
    "ax.set_title('Tips Dataset')\n",
    "\n",
    "plt.show()"
   ]
  }
 ],
 "metadata": {
  "kernelspec": {
   "display_name": "Python 3 (ipykernel)",
   "language": "python",
   "name": "python3"
  },
  "language_info": {
   "codemirror_mode": {
    "name": "ipython",
    "version": 3
   },
   "file_extension": ".py",
   "mimetype": "text/x-python",
   "name": "python",
   "nbconvert_exporter": "python",
   "pygments_lexer": "ipython3",
   "version": "3.10.13"
  }
 },
 "nbformat": 4,
 "nbformat_minor": 5
}
